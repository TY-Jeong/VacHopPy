{
 "cells": [
  {
   "cell_type": "markdown",
   "id": "34123934",
   "metadata": {},
   "source": [
    "# Vacancy Trajectory Analysis\n",
    "\n",
    "Analyzing vacancy hopping in `VacHopPy` begins with the `Calculator()` factory function and the `Site` class.\n",
    "\n",
    "---\n",
    "## The `Calculator()` Factory Function\n",
    "\n",
    "The `Calculator()` function is the main entry point for `VacHopPy`'s analysis pipeline. It gathers all necessary inputs, performs initial setup, and returns a fully configured `CalculatorEnsemble` object, ready for analysis.\n",
    "\n",
    "To get started, you call this function as follows:\n",
    "\n",
    "```bash\n",
    "calc_ensemble = Calculator(path_traj, site, t_interval)\n",
    "```\n",
    "### Key Arguments\n",
    "\n",
    "* **`path_traj` (*str*)** \n",
    "\n",
    "    Path to the trajectory data. This can be either a single HDF5 trajectory file or a directory containing a bundle of HDF5 files. `VacHopPy` will automatically discover and process all valid files in the specified directory.\n",
    "\n",
    "* **`site` (*Site*)**\n",
    "\n",
    "    An instance of the `Site` class.\n",
    "\n",
    "* **`t_interval` (*float, Optional*)**\n",
    "\n",
    "    The time interval in **picoseconds (ps)** used for averaging atomic positions to determine site occupation. To distinguish true hopping events from thermal vibrations, `VacHopPy` averages the atomic coordinates and forces over each `t_interval`. This averaged quantities are then used to assign an atom to a specific lattice site. Each interval corresponds to a single analysis step. If this argument is not provided, `Calculator()` will automatically search for an optimal `t_interval` for the analysis.\n",
    "\n",
    "### Return Value\n",
    "\n",
    "Calling the `Calculator()` function returns an instance of the `CalculatorEnsemble` class, which holds all the processed data and methods required for subsequent analysis steps.\n",
    "\n",
    "---\n",
    "## The `Site` Class\n",
    "\n",
    "The `Site` class is used to define the structural backbone of your material. It identifies all **lattice sites** from a vacancy-free reference structure and determines the possible **hopping paths** between them.\n",
    "\n",
    "You can create a `Site` object like this:\n",
    "\n",
    "```bash\n",
    "site = Site(path_structure, symbol)\n",
    "```\n",
    "\n",
    "### Key Arguments\n",
    "\n",
    "* **`path_structure` (*str*)**\n",
    "\n",
    "    Path to a structure file of the perfect, vacancy-free material. Any format supported by the **Atomic Simulation Environment (ASE)** is compatible.\n",
    "\n",
    "* **`symbol` (*str*)**\n",
    "\n",
    "    The chemical symbol of the diffusing species.\n",
    "\n",
    "----\n",
    "\n",
    "## Usage Example\n",
    "\n",
    "You can download source files to follow this tutorial from this [link](https://drive.google.com/file/d/1xBj3iP4eUInB2OKxCHstel4CTyXUDU9t/view?usp=sharing)\n",
    "\n",
    "\n",
    "Navigate into the `Example6/` directory you downloaded. In this directory, you will find two files:\n",
    "\n",
    "* **`TRAJ_O.h5`**\n",
    "\n",
    "    This is the HDF5 file containing the MD trajectory data. The example system is **rutile TiO₂** containing **two oxygen vacancies**, simulated at **2100 K**.\n",
    "\n",
    "* **`POSCAR_TiO2`**\n",
    "\n",
    "    This file contains the crystal structure of the perfect, **vacancy-free** rutile rutile TiO₂ supercell.\n"
   ]
  },
  {
   "cell_type": "code",
   "execution_count": 1,
   "id": "0e5533cd",
   "metadata": {},
   "outputs": [],
   "source": [
    "import os\n",
    "import numpy as np\n",
    "from vachoppy.utils import show_traj\n",
    "from vachoppy.core import Site, Calculator\n",
    "\n",
    "path_traj, path_structure = 'TRAJ_O.h5', 'POSCAR_TiO2'\n",
    "\n",
    "if not os.path.exists(path_traj): print(f\"{path_traj} not found.\")\n",
    "if not os.path.exists(path_structure): print(f\"{path_structure} not found.\")"
   ]
  },
  {
   "cell_type": "markdown",
   "id": "09bbb32a",
   "metadata": {},
   "source": [
    "---\n",
    "### 1. How to inspect the HDF5 file\n",
    "\n",
    "You can inspect the contents of the HDF5 trajectory file using the `show_traj` method:"
   ]
  },
  {
   "cell_type": "code",
   "execution_count": 2,
   "id": "2e4a8f69",
   "metadata": {},
   "outputs": [
    {
     "name": "stdout",
     "output_type": "stream",
     "text": [
      "==================================================\n",
      "  Trajectory File: TRAJ_O.h5\n",
      "==================================================\n",
      "\n",
      "[Simulation Parameters]\n",
      "  - Atomic Symbol:      O\n",
      "  - Number of Frames:   300000\n",
      "  - Temperature:        2100.0 K\n",
      "  - Time Step:          2.0 fs\n",
      "\n",
      "[Composition]\n",
      "  - Counts:             O: 46, Ti: 24\n",
      "  - Total Atoms:        70\n",
      "\n",
      "[Lattice Vectors (Ang)]\n",
      "  [  9.29133,   0.00000,   0.00000]\n",
      "  [  0.00000,   9.29133,   0.00000]\n",
      "  [  0.00000,   0.00000,   8.90126]\n",
      "\n",
      "[Stored Datasets]\n",
      "  - positions:          Shape = (300000, 46, 3)\n",
      "  - forces:             Shape = (300000, 46, 3)\n",
      "==================================================\n"
     ]
    }
   ],
   "source": [
    "show_traj(path_traj)"
   ]
  },
  {
   "cell_type": "markdown",
   "id": "ebf6e7e6",
   "metadata": {},
   "source": [
    "From the output, the MD run was performed at 2100 K for 600 ps (300,000 iterations × 2.0 fs). The composition shows the system contains **two oxygen vacancies**."
   ]
  },
  {
   "cell_type": "markdown",
   "id": "b1e6a22a",
   "metadata": {},
   "source": [
    "---\n",
    "### 2. Creating a `Site` Instance"
   ]
  },
  {
   "cell_type": "code",
   "execution_count": 3,
   "id": "097068c5",
   "metadata": {},
   "outputs": [],
   "source": [
    "site = Site(path_structure, 'O')"
   ]
  },
  {
   "cell_type": "markdown",
   "id": "3b36bb90",
   "metadata": {},
   "source": [
    "You can inspect the generated lattice information by calling the `.summary()` method.\n",
    "\n",
    "`VacHopPy` automatically identifies all possible hopping paths by employing the **Voronoi tessellation** technique. The maximum distance for this search can be adjusted using the `rmax` parameter, which defaults to **3.25 Å**."
   ]
  },
  {
   "cell_type": "code",
   "execution_count": 5,
   "id": "4b0a5562",
   "metadata": {},
   "outputs": [
    {
     "name": "stdout",
     "output_type": "stream",
     "text": [
      "\n",
      "====================================================================================================\n",
      "  Structure File: POSCAR_TiO2\n",
      "====================================================================================================\n",
      "[Structure Information]\n",
      "    - Structure Composition : Ti24 O48\n",
      "    - Lattice Vectors (Ang) :\n",
      "        [  9.29133,   0.00000,   0.00000]\n",
      "        [  0.00000,   9.29133,   0.00000]\n",
      "        [  0.00000,   0.00000,   8.90126]\n",
      "\n",
      "[Hopping Path Information]\n",
      "    - Diffusing Symbol   : O\n",
      "    - Inequivalent Sites : 1 found\n",
      "    - Inequivalent Paths : 3 found (with Rmax = 3.25 Å)\n",
      "\n",
      "Name    Init Site    Final Site    a (Å)    z    Initial Coord (Frac)      Final Coord (Frac)\n",
      "------  -----------  ------------  -------  ---  ------------------------  -------------------------\n",
      "A1      site1        site1         2.5625   1    [0.0975, 0.4025, 0.1667]  [-0.0975, 0.5975, 0.1667]\n",
      "A2      site1        site1         2.8031   8    [0.0975, 0.4025, 0.1667]  [0.3475, 0.3475, 0.0000]\n",
      "A3      site1        site1         2.9671   2    [0.0975, 0.4025, 0.1667]  [0.0975, 0.4025, -0.1667]\n",
      "====================================================================================================\n",
      "\n"
     ]
    }
   ],
   "source": [
    "site.summary()"
   ]
  },
  {
   "cell_type": "markdown",
   "id": "6cbfafb0",
   "metadata": {},
   "source": [
    "---\n",
    "### 3. Creating the `CalculatorEnsemble` Instance\n",
    "\n",
    "While you can create a `CalculatorEnsemble` instance by calling its constructor directly, the recommended approach is to use the `Calculator()` factory function. This helper function offers a significant advantage: it can automatically search for an optimal `t_interval` if one is not provided, streamlining your analysis setup"
   ]
  },
  {
   "cell_type": "code",
   "execution_count": 6,
   "id": "e9ac7ca9",
   "metadata": {},
   "outputs": [
    {
     "name": "stdout",
     "output_type": "stream",
     "text": [
      "====================================================================\n",
      "                   Automatic t_interval Estimation\n",
      "====================================================================\n",
      "  Estimating from TRAJ_O.h5\n",
      "             -> t_interval : 0.076 ps\n",
      "====================================================================\n",
      "        Adjusting t_interval to the nearest multiple of dt\n",
      "====================================================================\n",
      "    - dt                  : 0.0020 ps\n",
      "    - Original t_interval : 0.0764 ps\n",
      "    - Adjusted t_interval : 0.0760 ps (38 frames)\n",
      "====================================================================\n"
     ]
    }
   ],
   "source": [
    "calc_ensemble = Calculator(path_traj, site)"
   ]
  },
  {
   "cell_type": "markdown",
   "id": "021ee656",
   "metadata": {},
   "source": [
    "Now that the `calc_ensemble` object is prepared, you can kick off the main analysis by calling the `.calculate()` method.\n",
    "\n",
    "This powerful method handles the entire analysis pipeline for you, which automatically includes **identifying the trajectory of each vacancy** and **calculating hopping parameters**."
   ]
  },
  {
   "cell_type": "code",
   "execution_count": 7,
   "id": "99f761f6",
   "metadata": {},
   "outputs": [
    {
     "data": {
      "application/vnd.jupyter.widget-view+json": {
       "model_id": "73ade4a805e74b958e8fb675938535fc",
       "version_major": 2,
       "version_minor": 0
      },
      "text/plain": [
       "Analyze Trajectory:   0%|                              | 0/1 [00:00<?, ?it/s]"
      ]
     },
     "metadata": {},
     "output_type": "display_data"
    },
    {
     "name": "stdout",
     "output_type": "stream",
     "text": [
      "\n",
      "Analysis complete: 1 successful, 0 failed.\n",
      "Execution Time: 2.528 seconds\n",
      "Peak RAM Usage: 0.043 GB\n"
     ]
    }
   ],
   "source": [
    "calc_ensemble.calculate()"
   ]
  },
  {
   "cell_type": "markdown",
   "id": "af90e699",
   "metadata": {},
   "source": [
    "Although this tutorial uses a single HDF5 file, the `CalculatorEnsemble` class is specifically designed to process multiple trajectory files at once.\n",
    "\n",
    "The results for each individual HDF5 file are stored in the `.calculators` attribute. This attribute is a list of `CalculatorSingle` objects, sorted first by **temperature** (ascending) and then **alphabetically by file path**.\n",
    "\n",
    "You can verify which `CalculatorSingle` instance corresponds to which HDF5 file using the following code:"
   ]
  },
  {
   "cell_type": "code",
   "execution_count": 8,
   "id": "6cb01bac",
   "metadata": {},
   "outputs": [
    {
     "name": "stdout",
     "output_type": "stream",
     "text": [
      "calculators[0] : /home/jty/Examples/Example6/TRAJ_O.h5\n"
     ]
    }
   ],
   "source": [
    "for i, calc in enumerate(calc_ensemble.calculators):\n",
    "    print(f\"calculators[{i}] : {calc.path_traj}\")"
   ]
  },
  {
   "cell_type": "markdown",
   "id": "a2fccc57",
   "metadata": {},
   "source": [
    "For the remainder of this tutorial, we will focus on the results from the first trajectory by selecting its corresponding object."
   ]
  },
  {
   "cell_type": "code",
   "execution_count": null,
   "id": "76e9079c",
   "metadata": {},
   "outputs": [],
   "source": [
    "calc = calc_ensemble.calculators[0]"
   ]
  },
  {
   "cell_type": "markdown",
   "id": "e107d7c4",
   "metadata": {},
   "source": [
    "Key analysis parameters are now stored as attributes in the `calc` object and can be viewed as follows:"
   ]
  },
  {
   "cell_type": "code",
   "execution_count": 9,
   "id": "385eaff1",
   "metadata": {},
   "outputs": [
    {
     "name": "stdout",
     "output_type": "stream",
     "text": [
      "- Number of Vacancies                       : 2\n",
      "- Time Step for the MD Simulation (dt)      : 2.0 fs\n",
      "- Time interval for Averaging  (t_interval) : 0.076 ps\n",
      "- Number of Frames in the MD Simulatoin     : 299972 frames\n",
      "- Number of Frames per Step                 : 38 frames\n",
      "- Number of Steps for Analysis              : 7894 steps\n"
     ]
    }
   ],
   "source": [
    "print(f\"- Number of Vacancies                       : {calc.num_vacancies}\")\n",
    "print(f\"- Time Step for the MD Simulation (dt)      : {calc.dt} fs\")\n",
    "print(f\"- Time interval for Averaging  (t_interval) : {calc.t_interval} ps\")\n",
    "print(f\"- Number of Frames in the MD Simulatoin     : {calc.num_frames} frames\")\n",
    "print(f\"- Number of Frames per Step                 : {int(calc.t_interval * 1000 / calc.dt)} frames\")\n",
    "print(f\"- Number of Steps for Analysis              : {calc.num_steps} steps\")"
   ]
  },
  {
   "cell_type": "markdown",
   "id": "b12820ab",
   "metadata": {},
   "source": [
    "You might notice that while the MD simulation contains 300,000 frames, only 299,972 are used in the analysis. This is a direct consequence of the time-averaging process controlled by `t_interval`.\n",
    "\n",
    "`VacHopPy` groups the raw simulation frames into blocks, with each block corresponding to a single analysis step. The duration of each step is defined by `t_interval`.\n",
    "\n",
    "In this example, with a `t_interval` of 0.076 ps (or 76 fs) and a simulation timestep (`dt`) of 2 fs, each analysis step is derived by averaging **76 fs / 2 fs = 38** frames.\n",
    "\n",
    "Because the analysis requires complete steps, `VacHopPy` uses the largest number of frames that is perfectly divisible by 38. Any remaining frames at the end of the trajectory are discarded. Therefore, the total number of analysis steps is **int(300000 / 38) = 7894**, and the total frames used is **7894 * 38 = 299972**."
   ]
  },
  {
   "cell_type": "markdown",
   "id": "15eb1a93",
   "metadata": {},
   "source": [
    "---\n",
    "### Analyzing Vacancy Hopping Trajectories\n",
    "\n",
    "Once the calculation is complete, you can access the detailed hopping trajectory of each vacancy through two key attributes. These attributes provide different but complementary views of the vacancy movement.\n",
    "\n",
    "* **`.hopping_history` (*list*)**\n",
    "\n",
    "    A list where the length is equal to the number of vacancies (`num_vacancies`). Each element in the list corresponds to a single vacancy and contains its complete hopping history.\n",
    "\n",
    "* **`.unwrapped_vacancy_trajectory_coord_cart` (*dict*)**\n",
    "\n",
    "    A dictionary where each key is an analysis step (an integer) and the value contains the corresponding spatial coordinates. The coordinates are the **PBC-unwrapped Cartesian positions (in Å)** of all vacancies at that specific step. \n",
    "\n",
    "\n",
    "#### Usage of `.hopping_history`\n",
    "\n",
    "Let's examine the history of the first vacancy (`calc.hopping_history[0]`) to see this in action:"
   ]
  },
  {
   "cell_type": "code",
   "execution_count": 23,
   "id": "1f3a4799",
   "metadata": {},
   "outputs": [
    {
     "name": "stdout",
     "output_type": "stream",
     "text": [
      "Number of Vacancies: 2\n",
      "Number of Hopping Events for the First Vacancy: 111\n"
     ]
    }
   ],
   "source": [
    "print(f\"Number of Vacancies: {len(calc.hopping_history)}\")\n",
    "print(f\"Number of Hopping Events for the First Vacancy: {len(calc.hopping_history[0])}\")"
   ]
  },
  {
   "cell_type": "markdown",
   "id": "32312d7e",
   "metadata": {},
   "source": [
    "The raw dictionary output for a single event can be hard to read. We can easily format it for better clarity:"
   ]
  },
  {
   "cell_type": "code",
   "execution_count": 26,
   "id": "f1bcb75b",
   "metadata": {},
   "outputs": [
    {
     "name": "stdout",
     "output_type": "stream",
     "text": [
      "\n",
      "--- Details of the Last Hopping Event ---\n",
      "- site_init   : site1\n",
      "- site_final  : site1\n",
      "- distance    : 2.5624908680896756\n",
      "- z           : 1\n",
      "- coord_init  : [0.098, 0.402, 0.167]\n",
      "- coord_final : [-0.098, 0.598, 0.167]\n",
      "- name        : A1\n",
      "- step        : 7825\n",
      "- index_init  : 24\n",
      "- index_final : 36\n"
     ]
    }
   ],
   "source": [
    "# Get the last hopping event of the first vacancy\n",
    "last_event = calc.hopping_history[0][-1]\n",
    "\n",
    "print(\"\\n--- Details of the Last Hopping Event ---\")\n",
    "for key, value in last_event.items():\n",
    "    if 'coord' in key and isinstance(value, np.ndarray):\n",
    "         print(f\"- {key:<12}: [{value[0]:.3f}, {value[1]:.3f}, {value[2]:.3f}]\")\n",
    "    else:\n",
    "         print(f\"- {key:<12}: {value}\")"
   ]
  },
  {
   "cell_type": "markdown",
   "id": "0f555bfd",
   "metadata": {},
   "source": [
    "#### Usage of `.unwrapped_vacancy_trajectory_coord_cart`\n",
    "\n",
    "To get the coordinates at the 100th step:"
   ]
  },
  {
   "cell_type": "code",
   "execution_count": 29,
   "id": "ddae8323",
   "metadata": {},
   "outputs": [
    {
     "name": "stdout",
     "output_type": "stream",
     "text": [
      "[[0.90597733 3.73968856 1.48354252]\n",
      " [3.22881028 3.22881028 2.96708503]]\n"
     ]
    }
   ],
   "source": [
    "coords_at_step_100 = calc.unwrapped_vacancy_trajectory_coord_cart[100]\n",
    "print(coords_at_step_100)"
   ]
  },
  {
   "cell_type": "markdown",
   "id": "e7e4365f",
   "metadata": {},
   "source": [
    "The result is a NumPy array where each row represents the **[x, y, z]** coordinates of a single vacancy at the specified step. The first row corresponds to the first vacancy, the second row to the second, and so on. "
   ]
  },
  {
   "cell_type": "markdown",
   "id": "1467f1c8",
   "metadata": {},
   "source": [
    "#### Save the Vacancy Hopping Histories\n",
    "\n",
    "You can save this unwrapped trajectory into the `trajectory.json` file using `.save_trajectory()` method."
   ]
  },
  {
   "cell_type": "code",
   "execution_count": 43,
   "id": "e297690c",
   "metadata": {},
   "outputs": [],
   "source": [
    "calc.save_trajectory()"
   ]
  },
  {
   "cell_type": "markdown",
   "id": "ea7dad96",
   "metadata": {},
   "source": [
    "#### Summary of Vacancy Hopping Histories\n",
    "\n",
    "You can print the hopping history of each vacancy easily using `.show_hopping_history()`:"
   ]
  },
  {
   "cell_type": "code",
   "execution_count": null,
   "id": "b76cf6af",
   "metadata": {},
   "outputs": [],
   "source": [
    "calc.show_hopping_history()"
   ]
  },
  {
   "cell_type": "markdown",
   "id": "1843d4de",
   "metadata": {},
   "source": [
    "```{code-block} bash\n",
    ":class: scrollable-output\n",
    "\n",
    "====================================================================================================================\n",
    "                                           Hopping Sequence of Vacancy 0\n",
    "====================================================================================================================\n",
    "Num    Time (ps)    Path    a (Ang)    Initial Site (Fractional Coordinate)    Final Site (Fractional Coordinate)\n",
    "-----  -----------  ------  ---------  --------------------------------------  ------------------------------------\n",
    "1      11.93        A2      2.80311    site1 [0.09751, 0.40249, 0.16667]       site1 [0.15249, 0.15249, 0.33333]\n",
    "2      13.6         A1      2.56249    site1 [0.15249, 0.15249, 0.33333]       site1 [0.34751, 0.34751, 0.33333]\n",
    "3      14.44        A1      2.56249    site1 [0.34751, 0.34751, 0.33333]       site1 [0.15249, 0.15249, 0.33333]\n",
    "4      15.43        A1      2.56249    site1 [0.15249, 0.15249, 0.33333]       site1 [0.34751, 0.34751, 0.33333]\n",
    "5      17.02        A1      2.56249    site1 [0.34751, 0.34751, 0.33333]       site1 [0.15249, 0.15249, 0.33333]\n",
    "6      20.44        A1      2.56249    site1 [0.15249, 0.15249, 0.33333]       site1 [0.34751, 0.34751, 0.33333]\n",
    "7      22.34        A1      2.56249    site1 [0.34751, 0.34751, 0.33333]       site1 [0.15249, 0.15249, 0.33333]\n",
    "8      22.95        A1      2.56249    site1 [0.15249, 0.15249, 0.33333]       site1 [0.34751, 0.34751, 0.33333]\n",
    "9      23.26        A1      2.56249    site1 [0.34751, 0.34751, 0.33333]       site1 [0.15249, 0.15249, 0.33333]\n",
    "10     24.24        A1      2.56249    site1 [0.15249, 0.15249, 0.33333]       site1 [0.34751, 0.34751, 0.33333]\n",
    "11     25.38        A1      2.56249    site1 [0.34751, 0.34751, 0.33333]       site1 [0.15249, 0.15249, 0.33333]\n",
    "12     26.9         A1      2.56249    site1 [0.15249, 0.15249, 0.33333]       site1 [0.34751, 0.34751, 0.33333]\n",
    "13     28.58        A1      2.56249    site1 [0.34751, 0.34751, 0.33333]       site1 [0.15249, 0.15249, 0.33333]\n",
    "14     29.26        A1      2.56249    site1 [0.15249, 0.15249, 0.33333]       site1 [0.34751, 0.34751, 0.33333]\n",
    "15     38.3         A1      2.56249    site1 [0.34751, 0.34751, 0.33333]       site1 [0.15249, 0.15249, 0.33333]\n",
    "16     38.84        A1      2.56249    site1 [0.15249, 0.15249, 0.33333]       site1 [0.34751, 0.34751, 0.33333]\n",
    "17     39.82        A1      2.56249    site1 [0.34751, 0.34751, 0.33333]       site1 [0.15249, 0.15249, 0.33333]\n",
    "18     40.28        A1      2.56249    site1 [0.15249, 0.15249, 0.33333]       site1 [0.34751, 0.34751, 0.33333]\n",
    "19     41.19        A1      2.56249    site1 [0.34751, 0.34751, 0.33333]       site1 [0.15249, 0.15249, 0.33333]\n",
    "20     41.57        A1      2.56249    site1 [0.15249, 0.15249, 0.33333]       site1 [0.34751, 0.34751, 0.33333]\n",
    "21     42.18        A1      2.56249    site1 [0.34751, 0.34751, 0.33333]       site1 [0.15249, 0.15249, 0.33333]\n",
    "22     44.92        A2      2.80311    site1 [0.15249, 0.15249, 0.33333]       site1 [0.09751, 0.90249, 0.16667]\n",
    "23     54.34        A2      2.80311    site1 [0.09751, 0.90249, 0.16667]       site1 [0.84751, 0.84751, 0.00000]\n",
    "24     98.65        A2      2.80311    site1 [0.84751, 0.84751, 0.00000]       site1 [0.90249, 0.59751, 0.16667]\n",
    "25     108.22       A1      2.56249    site1 [0.90249, 0.59751, 0.16667]       site1 [0.09751, 0.40249, 0.16667]\n",
    "26     163.1        A1      2.56249    site1 [0.09751, 0.40249, 0.16667]       site1 [0.90249, 0.59751, 0.16667]\n",
    "27     166.21       A1      2.56249    site1 [0.90249, 0.59751, 0.16667]       site1 [0.09751, 0.40249, 0.16667]\n",
    "28     174.5        A2      2.80311    site1 [0.09751, 0.40249, 0.16667]       site1 [0.15249, 0.65249, 0.00000]\n",
    "29     195.55       A1      2.56249    site1 [0.15249, 0.65249, 0.00000]       site1 [0.34751, 0.84751, 0.00000]\n",
    "30     196.16       A1      2.56249    site1 [0.34751, 0.84751, 0.00000]       site1 [0.15249, 0.65249, 0.00000]\n",
    "31     196.99       A1      2.56249    site1 [0.15249, 0.65249, 0.00000]       site1 [0.34751, 0.84751, 0.00000]\n",
    "32     197.14       A1      2.56249    site1 [0.34751, 0.84751, 0.00000]       site1 [0.15249, 0.65249, 0.00000]\n",
    "33     197.6        A1      2.56249    site1 [0.15249, 0.65249, 0.00000]       site1 [0.34751, 0.84751, 0.00000]\n",
    "34     197.98       A1      2.56249    site1 [0.34751, 0.84751, 0.00000]       site1 [0.15249, 0.65249, 0.00000]\n",
    "35     198.74       A1      2.56249    site1 [0.15249, 0.65249, 0.00000]       site1 [0.34751, 0.84751, 0.00000]\n",
    "36     198.97       A1      2.56249    site1 [0.34751, 0.84751, 0.00000]       site1 [0.15249, 0.65249, 0.00000]\n",
    "37     199.5        A1      2.56249    site1 [0.15249, 0.65249, 0.00000]       site1 [0.34751, 0.84751, 0.00000]\n",
    "38     202.84       A1      2.56249    site1 [0.34751, 0.84751, 0.00000]       site1 [0.15249, 0.65249, 0.00000]\n",
    "39     204.74       A1      2.56249    site1 [0.15249, 0.65249, 0.00000]       site1 [0.34751, 0.84751, 0.00000]\n",
    "40     205.05       A2      2.80311    site1 [0.34751, 0.84751, 0.00000]       site1 [0.09751, 0.90249, 0.16667]\n",
    "41     212.72       A2      2.80311    site1 [0.09751, 0.90249, 0.16667]       site1 [0.84751, 0.84751, 0.33333]\n",
    "42     213.18       A1      2.56249    site1 [0.84751, 0.84751, 0.33333]       site1 [0.65249, 0.65249, 0.33333]\n",
    "43     215.16       A1      2.56249    site1 [0.65249, 0.65249, 0.33333]       site1 [0.84751, 0.84751, 0.33333]\n",
    "44     219.41       A2      2.80311    site1 [0.84751, 0.84751, 0.33333]       site1 [0.90249, 0.09751, 0.50000]\n",
    "45     232.71       A1      2.56249    site1 [0.90249, 0.09751, 0.50000]       site1 [0.09751, 0.90249, 0.50000]\n",
    "46     243.43       A2      2.80311    site1 [0.09751, 0.90249, 0.50000]       site1 [0.34751, 0.84751, 0.66667]\n",
    "47     245.18       A1      2.56249    site1 [0.34751, 0.84751, 0.66667]       site1 [0.15249, 0.65249, 0.66667]\n",
    "48     249.05       A2      2.80311    site1 [0.15249, 0.65249, 0.66667]       site1 [0.40249, 0.59751, 0.50000]\n",
    "49     250.27       A2      2.80311    site1 [0.40249, 0.59751, 0.50000]       site1 [0.15249, 0.65249, 0.66667]\n",
    "50     252.4        A1      2.56249    site1 [0.15249, 0.65249, 0.66667]       site1 [0.34751, 0.84751, 0.66667]\n",
    "51     253          A1      2.56249    site1 [0.34751, 0.84751, 0.66667]       site1 [0.15249, 0.65249, 0.66667]\n",
    "52     253.46       A1      2.56249    site1 [0.15249, 0.65249, 0.66667]       site1 [0.34751, 0.84751, 0.66667]\n",
    "53     253.84       A1      2.56249    site1 [0.34751, 0.84751, 0.66667]       site1 [0.15249, 0.65249, 0.66667]\n",
    "54     253.92       A1      2.56249    site1 [0.15249, 0.65249, 0.66667]       site1 [0.34751, 0.84751, 0.66667]\n",
    "55     256.35       A1      2.56249    site1 [0.34751, 0.84751, 0.66667]       site1 [0.15249, 0.65249, 0.66667]\n",
    "56     257.18       A1      2.56249    site1 [0.15249, 0.65249, 0.66667]       site1 [0.34751, 0.84751, 0.66667]\n",
    "57     257.64       A2      2.80311    site1 [0.34751, 0.84751, 0.66667]       site1 [0.40249, 0.09751, 0.83333]\n",
    "58     257.72       A2      2.80311    site1 [0.40249, 0.09751, 0.83333]       site1 [0.34751, 0.84751, 0.66667]\n",
    "59     262.58       A2      2.80311    site1 [0.34751, 0.84751, 0.66667]       site1 [0.40249, 0.59751, 0.83333]\n",
    "60     270.41       A2      2.80311    site1 [0.40249, 0.59751, 0.83333]       site1 [0.34751, 0.34751, 0.66667]\n",
    "61     270.94       A2      2.80311    site1 [0.34751, 0.34751, 0.66667]       site1 [0.09751, 0.40249, 0.83333]\n",
    "62     271.4        A1      2.56249    site1 [0.09751, 0.40249, 0.83333]       site1 [0.90249, 0.59751, 0.83333]\n",
    "63     273.3        A1      2.56249    site1 [0.90249, 0.59751, 0.83333]       site1 [0.09751, 0.40249, 0.83333]\n",
    "64     273.98       A1      2.56249    site1 [0.09751, 0.40249, 0.83333]       site1 [0.90249, 0.59751, 0.83333]\n",
    "65     290.85       A1      2.56249    site1 [0.90249, 0.59751, 0.83333]       site1 [0.09751, 0.40249, 0.83333]\n",
    "66     291.46       A1      2.56249    site1 [0.09751, 0.40249, 0.83333]       site1 [0.90249, 0.59751, 0.83333]\n",
    "67     313.42       A2      2.80311    site1 [0.90249, 0.59751, 0.83333]       site1 [0.84751, 0.84751, 0.66667]\n",
    "68     316.16       A1      2.56249    site1 [0.84751, 0.84751, 0.66667]       site1 [0.65249, 0.65249, 0.66667]\n",
    "69     316.77       A1      2.56249    site1 [0.65249, 0.65249, 0.66667]       site1 [0.84751, 0.84751, 0.66667]\n",
    "70     334.86       A1      2.56249    site1 [0.84751, 0.84751, 0.66667]       site1 [0.65249, 0.65249, 0.66667]\n",
    "71     346.1        A2      2.80311    site1 [0.65249, 0.65249, 0.66667]       site1 [0.90249, 0.59751, 0.50000]\n",
    "72     352.03       A2      2.80311    site1 [0.90249, 0.59751, 0.50000]       site1 [0.84751, 0.34751, 0.33333]\n",
    "73     355.53       A2      2.80311    site1 [0.84751, 0.34751, 0.33333]       site1 [0.09751, 0.40249, 0.50000]\n",
    "74     357.12       A1      2.56249    site1 [0.09751, 0.40249, 0.50000]       site1 [0.90249, 0.59751, 0.50000]\n",
    "75     357.81       A1      2.56249    site1 [0.90249, 0.59751, 0.50000]       site1 [0.09751, 0.40249, 0.50000]\n",
    "76     358.04       A1      2.56249    site1 [0.09751, 0.40249, 0.50000]       site1 [0.90249, 0.59751, 0.50000]\n",
    "77     359.48       A1      2.56249    site1 [0.90249, 0.59751, 0.50000]       site1 [0.09751, 0.40249, 0.50000]\n",
    "78     359.94       A1      2.56249    site1 [0.09751, 0.40249, 0.50000]       site1 [0.90249, 0.59751, 0.50000]\n",
    "79     360.01       A1      2.56249    site1 [0.90249, 0.59751, 0.50000]       site1 [0.09751, 0.40249, 0.50000]\n",
    "80     360.32       A1      2.56249    site1 [0.09751, 0.40249, 0.50000]       site1 [0.90249, 0.59751, 0.50000]\n",
    "81     361.23       A1      2.56249    site1 [0.90249, 0.59751, 0.50000]       site1 [0.09751, 0.40249, 0.50000]\n",
    "82     362.6        A1      2.56249    site1 [0.09751, 0.40249, 0.50000]       site1 [0.90249, 0.59751, 0.50000]\n",
    "83     366.47       A1      2.56249    site1 [0.90249, 0.59751, 0.50000]       site1 [0.09751, 0.40249, 0.50000]\n",
    "84     368.52       A1      2.56249    site1 [0.09751, 0.40249, 0.50000]       site1 [0.90249, 0.59751, 0.50000]\n",
    "85     373.16       A1      2.56249    site1 [0.90249, 0.59751, 0.50000]       site1 [0.09751, 0.40249, 0.50000]\n",
    "86     373.39       A1      2.56249    site1 [0.09751, 0.40249, 0.50000]       site1 [0.90249, 0.59751, 0.50000]\n",
    "87     377.8        A2      2.80311    site1 [0.90249, 0.59751, 0.50000]       site1 [0.84751, 0.34751, 0.66667]\n",
    "88     380.61       A1      2.56249    site1 [0.84751, 0.34751, 0.66667]       site1 [0.65249, 0.15249, 0.66667]\n",
    "89     386.76       A1      2.56249    site1 [0.65249, 0.15249, 0.66667]       site1 [0.84751, 0.34751, 0.66667]\n",
    "90     389.58       A2      2.80311    site1 [0.84751, 0.34751, 0.66667]       site1 [0.90249, 0.59751, 0.83333]\n",
    "91     389.73       A2      2.80311    site1 [0.90249, 0.59751, 0.83333]       site1 [0.84751, 0.84751, 0.00000]\n",
    "92     390.26       A1      2.56249    site1 [0.84751, 0.84751, 0.00000]       site1 [0.65249, 0.65249, 0.00000]\n",
    "93     392.08       A1      2.56249    site1 [0.65249, 0.65249, 0.00000]       site1 [0.84751, 0.84751, 0.00000]\n",
    "94     392.39       A2      2.80311    site1 [0.84751, 0.84751, 0.00000]       site1 [0.59751, 0.90249, 0.16667]\n",
    "95     408.27       A2      2.80311    site1 [0.59751, 0.90249, 0.16667]       site1 [0.65249, 0.65249, 0.00000]\n",
    "96     408.42       A2      2.80311    site1 [0.65249, 0.65249, 0.00000]       site1 [0.90249, 0.59751, 0.83333]\n",
    "97     417.85       A2      2.80311    site1 [0.90249, 0.59751, 0.83333]       site1 [0.84751, 0.84751, 0.00000]\n",
    "98     418.68       A2      2.80311    site1 [0.84751, 0.84751, 0.00000]       site1 [0.90249, 0.59751, 0.83333]\n",
    "99     451.29       A1      2.56249    site1 [0.90249, 0.59751, 0.83333]       site1 [0.09751, 0.40249, 0.83333]\n",
    "100    462.99       A2      2.80311    site1 [0.09751, 0.40249, 0.83333]       site1 [0.15249, 0.15249, 0.66667]\n",
    "101    475.08       A2      2.80311    site1 [0.15249, 0.15249, 0.66667]       site1 [0.09751, 0.40249, 0.83333]\n",
    "102    486.78       A1      2.56249    site1 [0.09751, 0.40249, 0.83333]       site1 [0.90249, 0.59751, 0.83333]\n",
    "103    508.52       A1      2.56249    site1 [0.90249, 0.59751, 0.83333]       site1 [0.09751, 0.40249, 0.83333]\n",
    "104    515.2        A1      2.56249    site1 [0.09751, 0.40249, 0.83333]       site1 [0.90249, 0.59751, 0.83333]\n",
    "105    517.33       A2      2.80311    site1 [0.90249, 0.59751, 0.83333]       site1 [0.84751, 0.84751, 0.00000]\n",
    "106    522.58       A2      2.80311    site1 [0.84751, 0.84751, 0.00000]       site1 [0.59751, 0.90249, 0.16667]\n",
    "107    546.06       A1      2.56249    site1 [0.59751, 0.90249, 0.16667]       site1 [0.40249, 0.09751, 0.16667]\n",
    "108    552.9        A1      2.56249    site1 [0.40249, 0.09751, 0.16667]       site1 [0.59751, 0.90249, 0.16667]\n",
    "109    573.57       A1      2.56249    site1 [0.59751, 0.90249, 0.16667]       site1 [0.40249, 0.09751, 0.16667]\n",
    "110    583.15       A2      2.80311    site1 [0.40249, 0.09751, 0.16667]       site1 [0.15249, 0.15249, 0.00000]\n",
    "111    594.7        A1      2.56249    site1 [0.15249, 0.15249, 0.00000]       site1 [0.34751, 0.34751, 0.00000]\n",
    "====================================================================================================================\n",
    "\n",
    "====================================================================================================================\n",
    "                                           Hopping Sequence of Vacancy 1\n",
    "====================================================================================================================\n",
    "Num    Time (ps)    Path    a (Ang)    Initial Site (Fractional Coordinate)    Final Site (Fractional Coordinate)\n",
    "-----  -----------  ------  ---------  --------------------------------------  ------------------------------------\n",
    "1      7.3          A2      2.80311    site1 [0.40249, 0.59751, 0.50000]       site1 [0.34751, 0.34751, 0.33333]\n",
    "2      8.13         A1      2.56249    site1 [0.34751, 0.34751, 0.33333]       site1 [0.15249, 0.15249, 0.33333]\n",
    "3      8.36         A1      2.56249    site1 [0.15249, 0.15249, 0.33333]       site1 [0.34751, 0.34751, 0.33333]\n",
    "4      8.59         A1      2.56249    site1 [0.34751, 0.34751, 0.33333]       site1 [0.15249, 0.15249, 0.33333]\n",
    "5      9.2          A1      2.56249    site1 [0.15249, 0.15249, 0.33333]       site1 [0.34751, 0.34751, 0.33333]\n",
    "6      9.42         A1      2.56249    site1 [0.34751, 0.34751, 0.33333]       site1 [0.15249, 0.15249, 0.33333]\n",
    "7      10.18        A1      2.56249    site1 [0.15249, 0.15249, 0.33333]       site1 [0.34751, 0.34751, 0.33333]\n",
    "8      11.4         A1      2.56249    site1 [0.34751, 0.34751, 0.33333]       site1 [0.15249, 0.15249, 0.33333]\n",
    "9      11.86        A1      2.56249    site1 [0.15249, 0.15249, 0.33333]       site1 [0.34751, 0.34751, 0.33333]\n",
    "10     12.16        A2      2.80311    site1 [0.34751, 0.34751, 0.33333]       site1 [0.40249, 0.09751, 0.50000]\n",
    "11     24.7         A2      2.80311    site1 [0.40249, 0.09751, 0.50000]       site1 [0.15249, 0.15249, 0.33333]\n",
    "12     24.93        A2      2.80311    site1 [0.15249, 0.15249, 0.33333]       site1 [0.40249, 0.09751, 0.50000]\n",
    "13     29.26        A1      2.56249    site1 [0.40249, 0.09751, 0.50000]       site1 [0.59751, 0.90249, 0.50000]\n",
    "14     37.77        A1      2.56249    site1 [0.59751, 0.90249, 0.50000]       site1 [0.40249, 0.09751, 0.50000]\n",
    "15     43.09        A1      2.56249    site1 [0.40249, 0.09751, 0.50000]       site1 [0.59751, 0.90249, 0.50000]\n",
    "16     54.11        A2      2.80311    site1 [0.59751, 0.90249, 0.50000]       site1 [0.65249, 0.65249, 0.33333]\n",
    "17     77.44        A1      2.56249    site1 [0.65249, 0.65249, 0.33333]       site1 [0.84751, 0.84751, 0.33333]\n",
    "18     96.52        A2      2.80311    site1 [0.84751, 0.84751, 0.33333]       site1 [0.90249, 0.59751, 0.16667]\n",
    "19     98.57        A2      2.80311    site1 [0.90249, 0.59751, 0.16667]       site1 [0.65249, 0.65249, 0.00000]\n",
    "20     98.95        A1      2.56249    site1 [0.65249, 0.65249, 0.00000]       site1 [0.84751, 0.84751, 0.00000]\n",
    "21     100.02       A1      2.56249    site1 [0.84751, 0.84751, 0.00000]       site1 [0.65249, 0.65249, 0.00000]\n",
    "22     100.7        A1      2.56249    site1 [0.65249, 0.65249, 0.00000]       site1 [0.84751, 0.84751, 0.00000]\n",
    "23     103.36       A1      2.56249    site1 [0.84751, 0.84751, 0.00000]       site1 [0.65249, 0.65249, 0.00000]\n",
    "24     103.44       A1      2.56249    site1 [0.65249, 0.65249, 0.00000]       site1 [0.84751, 0.84751, 0.00000]\n",
    "25     103.66       A1      2.56249    site1 [0.84751, 0.84751, 0.00000]       site1 [0.65249, 0.65249, 0.00000]\n",
    "26     104.27       A1      2.56249    site1 [0.65249, 0.65249, 0.00000]       site1 [0.84751, 0.84751, 0.00000]\n",
    "27     106.48       A1      2.56249    site1 [0.84751, 0.84751, 0.00000]       site1 [0.65249, 0.65249, 0.00000]\n",
    "28     113.32       A1      2.56249    site1 [0.65249, 0.65249, 0.00000]       site1 [0.84751, 0.84751, 0.00000]\n",
    "29     118.64       A2      2.80311    site1 [0.84751, 0.84751, 0.00000]       site1 [0.90249, 0.59751, 0.83333]\n",
    "30     162.79       A2      2.80311    site1 [0.90249, 0.59751, 0.83333]       site1 [0.65249, 0.65249, 0.00000]\n",
    "31     164.39       A1      2.56249    site1 [0.65249, 0.65249, 0.00000]       site1 [0.84751, 0.84751, 0.00000]\n",
    "32     164.62       A1      2.56249    site1 [0.84751, 0.84751, 0.00000]       site1 [0.65249, 0.65249, 0.00000]\n",
    "33     165.45       A1      2.56249    site1 [0.65249, 0.65249, 0.00000]       site1 [0.84751, 0.84751, 0.00000]\n",
    "34     192.36       A2      2.80311    site1 [0.84751, 0.84751, 0.00000]       site1 [0.90249, 0.09751, 0.83333]\n",
    "35     194.48       A1      2.56249    site1 [0.90249, 0.09751, 0.83333]       site1 [0.09751, 0.90249, 0.83333]\n",
    "36     206.95       A2      2.80311    site1 [0.09751, 0.90249, 0.83333]       site1 [0.15249, 0.65249, 0.66667]\n",
    "37     208.09       A1      2.56249    site1 [0.15249, 0.65249, 0.66667]       site1 [0.34751, 0.84751, 0.66667]\n",
    "38     208.16       A2      2.80311    site1 [0.34751, 0.84751, 0.66667]       site1 [0.59751, 0.90249, 0.50000]\n",
    "39     215.54       A2      2.80311    site1 [0.59751, 0.90249, 0.50000]       site1 [0.65249, 0.65249, 0.33333]\n",
    "40     215.84       A2      2.80311    site1 [0.65249, 0.65249, 0.33333]       site1 [0.59751, 0.90249, 0.50000]\n",
    "41     216.22       A2      2.80311    site1 [0.59751, 0.90249, 0.50000]       site1 [0.34751, 0.84751, 0.66667]\n",
    "42     231.65       A1      2.56249    site1 [0.34751, 0.84751, 0.66667]       site1 [0.15249, 0.65249, 0.66667]\n",
    "43     232.71       A1      2.56249    site1 [0.15249, 0.65249, 0.66667]       site1 [0.34751, 0.84751, 0.66667]\n",
    "44     233.17       A1      2.56249    site1 [0.34751, 0.84751, 0.66667]       site1 [0.15249, 0.65249, 0.66667]\n",
    "45     233.62       A1      2.56249    site1 [0.15249, 0.65249, 0.66667]       site1 [0.34751, 0.84751, 0.66667]\n",
    "46     233.7        A1      2.56249    site1 [0.34751, 0.84751, 0.66667]       site1 [0.15249, 0.65249, 0.66667]\n",
    "47     234.08       A1      2.56249    site1 [0.15249, 0.65249, 0.66667]       site1 [0.34751, 0.84751, 0.66667]\n",
    "48     234.16       A1      2.56249    site1 [0.34751, 0.84751, 0.66667]       site1 [0.15249, 0.65249, 0.66667]\n",
    "49     234.61       A1      2.56249    site1 [0.15249, 0.65249, 0.66667]       site1 [0.34751, 0.84751, 0.66667]\n",
    "50     238.11       A1      2.56249    site1 [0.34751, 0.84751, 0.66667]       site1 [0.15249, 0.65249, 0.66667]\n",
    "51     238.64       A1      2.56249    site1 [0.15249, 0.65249, 0.66667]       site1 [0.34751, 0.84751, 0.66667]\n",
    "52     238.79       A1      2.56249    site1 [0.34751, 0.84751, 0.66667]       site1 [0.15249, 0.65249, 0.66667]\n",
    "53     241.38       A1      2.56249    site1 [0.15249, 0.65249, 0.66667]       site1 [0.34751, 0.84751, 0.66667]\n",
    "54     241.68       A2      2.80311    site1 [0.34751, 0.84751, 0.66667]       site1 [0.40249, 0.59751, 0.83333]\n",
    "55     246.7        A2      2.80311    site1 [0.40249, 0.59751, 0.83333]       site1 [0.34751, 0.84751, 0.66667]\n",
    "56     247.23       A2      2.80311    site1 [0.34751, 0.84751, 0.66667]       site1 [0.09751, 0.90249, 0.83333]\n",
    "57     248.75       A2      2.80311    site1 [0.09751, 0.90249, 0.83333]       site1 [0.34751, 0.84751, 0.66667]\n",
    "58     250.34       A2      2.80311    site1 [0.34751, 0.84751, 0.66667]       site1 [0.40249, 0.59751, 0.50000]\n",
    "59     257.79       A2      2.80311    site1 [0.40249, 0.59751, 0.50000]       site1 [0.15249, 0.65249, 0.66667]\n",
    "60     258.02       A2      2.80311    site1 [0.15249, 0.65249, 0.66667]       site1 [0.40249, 0.59751, 0.50000]\n",
    "61     260.38       A1      2.56249    site1 [0.40249, 0.59751, 0.50000]       site1 [0.59751, 0.40249, 0.50000]\n",
    "62     269.12       A2      2.80311    site1 [0.59751, 0.40249, 0.50000]       site1 [0.84751, 0.34751, 0.33333]\n",
    "63     277.25       A1      2.56249    site1 [0.84751, 0.34751, 0.33333]       site1 [0.65249, 0.15249, 0.33333]\n",
    "64     287.2        A1      2.56249    site1 [0.65249, 0.15249, 0.33333]       site1 [0.84751, 0.34751, 0.33333]\n",
    "65     293.89       A1      2.56249    site1 [0.84751, 0.34751, 0.33333]       site1 [0.65249, 0.15249, 0.33333]\n",
    "66     313.27       A2      2.80311    site1 [0.65249, 0.15249, 0.33333]       site1 [0.40249, 0.09751, 0.50000]\n",
    "67     317          A2      2.80311    site1 [0.40249, 0.09751, 0.50000]       site1 [0.65249, 0.15249, 0.33333]\n",
    "68     334.63       A1      2.56249    site1 [0.65249, 0.15249, 0.33333]       site1 [0.84751, 0.34751, 0.33333]\n",
    "69     351.96       A2      2.80311    site1 [0.84751, 0.34751, 0.33333]       site1 [0.09751, 0.40249, 0.50000]\n",
    "70     352.64       A1      2.56249    site1 [0.09751, 0.40249, 0.50000]       site1 [0.90249, 0.59751, 0.50000]\n",
    "71     352.94       A1      2.56249    site1 [0.90249, 0.59751, 0.50000]       site1 [0.09751, 0.40249, 0.50000]\n",
    "72     353.55       A1      2.56249    site1 [0.09751, 0.40249, 0.50000]       site1 [0.90249, 0.59751, 0.50000]\n",
    "73     354.16       A1      2.56249    site1 [0.90249, 0.59751, 0.50000]       site1 [0.09751, 0.40249, 0.50000]\n",
    "74     354.24       A1      2.56249    site1 [0.09751, 0.40249, 0.50000]       site1 [0.90249, 0.59751, 0.50000]\n",
    "75     355.76       A2      2.80311    site1 [0.90249, 0.59751, 0.50000]       site1 [0.84751, 0.34751, 0.33333]\n",
    "76     372.4        A2      2.80311    site1 [0.84751, 0.34751, 0.33333]       site1 [0.09751, 0.40249, 0.50000]\n",
    "77     372.63       A2      2.80311    site1 [0.09751, 0.40249, 0.50000]       site1 [0.84751, 0.34751, 0.33333]\n",
    "78     377.34       A2      2.80311    site1 [0.84751, 0.34751, 0.33333]       site1 [0.90249, 0.59751, 0.16667]\n",
    "79     377.95       A2      2.80311    site1 [0.90249, 0.59751, 0.16667]       site1 [0.84751, 0.84751, 0.00000]\n",
    "80     380.76       A1      2.56249    site1 [0.84751, 0.84751, 0.00000]       site1 [0.65249, 0.65249, 0.00000]\n",
    "81     389.88       A2      2.80311    site1 [0.65249, 0.65249, 0.00000]       site1 [0.90249, 0.59751, 0.83333]\n",
    "82     392.46       A2      2.80311    site1 [0.90249, 0.59751, 0.83333]       site1 [0.65249, 0.65249, 0.00000]\n",
    "83     392.69       A1      2.56249    site1 [0.65249, 0.65249, 0.00000]       site1 [0.84751, 0.84751, 0.00000]\n",
    "84     393.15       A1      2.56249    site1 [0.84751, 0.84751, 0.00000]       site1 [0.65249, 0.65249, 0.00000]\n",
    "85     393.91       A1      2.56249    site1 [0.65249, 0.65249, 0.00000]       site1 [0.84751, 0.84751, 0.00000]\n",
    "86     396.95       A1      2.56249    site1 [0.84751, 0.84751, 0.00000]       site1 [0.65249, 0.65249, 0.00000]\n",
    "87     398.16       A1      2.56249    site1 [0.65249, 0.65249, 0.00000]       site1 [0.84751, 0.84751, 0.00000]\n",
    "88     400.6        A1      2.56249    site1 [0.84751, 0.84751, 0.00000]       site1 [0.65249, 0.65249, 0.00000]\n",
    "89     401.28       A1      2.56249    site1 [0.65249, 0.65249, 0.00000]       site1 [0.84751, 0.84751, 0.00000]\n",
    "90     401.43       A1      2.56249    site1 [0.84751, 0.84751, 0.00000]       site1 [0.65249, 0.65249, 0.00000]\n",
    "91     402.19       A1      2.56249    site1 [0.65249, 0.65249, 0.00000]       site1 [0.84751, 0.84751, 0.00000]\n",
    "92     405.61       A1      2.56249    site1 [0.84751, 0.84751, 0.00000]       site1 [0.65249, 0.65249, 0.00000]\n",
    "93     406.37       A1      2.56249    site1 [0.65249, 0.65249, 0.00000]       site1 [0.84751, 0.84751, 0.00000]\n",
    "94     408.65       A1      2.56249    site1 [0.84751, 0.84751, 0.00000]       site1 [0.65249, 0.65249, 0.00000]\n",
    "95     409.18       A1      2.56249    site1 [0.65249, 0.65249, 0.00000]       site1 [0.84751, 0.84751, 0.00000]\n",
    "96     410.63       A1      2.56249    site1 [0.84751, 0.84751, 0.00000]       site1 [0.65249, 0.65249, 0.00000]\n",
    "97     412.91       A1      2.56249    site1 [0.65249, 0.65249, 0.00000]       site1 [0.84751, 0.84751, 0.00000]\n",
    "98     417.09       A1      2.56249    site1 [0.84751, 0.84751, 0.00000]       site1 [0.65249, 0.65249, 0.00000]\n",
    "99     419.29       A1      2.56249    site1 [0.65249, 0.65249, 0.00000]       site1 [0.84751, 0.84751, 0.00000]\n",
    "100    419.29       A2      2.80311    site1 [0.84751, 0.84751, 0.00000]       site1 [0.90249, 0.09751, 0.83333]\n",
    "101    425.68       A1      2.56249    site1 [0.90249, 0.09751, 0.83333]       site1 [0.09751, 0.90249, 0.83333]\n",
    "102    431.91       A2      2.80311    site1 [0.09751, 0.90249, 0.83333]       site1 [0.34751, 0.84751, 0.66667]\n",
    "103    461.62       A3      2.96709    site1 [0.34751, 0.84751, 0.66667]       site1 [0.34751, 0.84751, 0.33333]\n",
    "104    485.11       A2      2.80311    site1 [0.34751, 0.84751, 0.33333]       site1 [0.09751, 0.90249, 0.16667]\n",
    "105    505.32       A2      2.80311    site1 [0.09751, 0.90249, 0.16667]       site1 [0.15249, 0.65249, 0.33333]\n",
    "106    554.5        A2      2.80311    site1 [0.15249, 0.65249, 0.33333]       site1 [0.40249, 0.59751, 0.16667]\n",
    "107    571.9        A2      2.80311    site1 [0.40249, 0.59751, 0.16667]       site1 [0.15249, 0.65249, 0.00000]\n",
    "====================================================================================================================\n",
    "```"
   ]
  },
  {
   "cell_type": "markdown",
   "id": "0f4dfb94",
   "metadata": {},
   "source": [
    "---\n",
    "### Visualizing Vacancy Hopping Trajectories\n",
    "\n",
    "`VacHopPy` provides three powerful methods for visualizing the vacancy hopping trajectories, each offering a unique perspective on the diffusion process.\n",
    "\n",
    "* **`plot_vacancy_trajectory()`**\n",
    "\n",
    "    This method generates a static **interactive 3D plot** of the complete vacancy paths.\n",
    "\n",
    "* **`animate_occupation()`**\n",
    "\n",
    "    This method creates a **GIF animation** showing the time evolution of **site occupations**. It visualizes how individual atoms move between lattice sites and, as a consequence, how vacancies propagate through the structure. \n",
    "\n",
    "* **`animate_vacancy_trajectory()`**\n",
    "\n",
    "    This method generates an **interactive HTML-based video** of the vacancy trajectories."
   ]
  },
  {
   "cell_type": "code",
   "execution_count": 31,
   "id": "b22a267c",
   "metadata": {},
   "outputs": [
    {
     "data": {
      "application/vnd.plotly.v1+json": {
       "config": {
        "plotlyServerURL": "https://plot.ly"
       },
       "data": [
        {
         "line": {
          "color": "lightgrey",
          "width": 1
         },
         "mode": "lines",
         "showlegend": false,
         "type": "scatter3d",
         "x": [
          -9.2913318,
          0,
          null,
          -9.2913318,
          -9.2913318,
          null,
          -9.2913318,
          -9.2913318,
          null,
          0,
          0,
          null,
          0,
          0,
          null,
          -9.2913318,
          0,
          null,
          -9.2913318,
          -9.2913318,
          null,
          -9.2913318,
          -9.2913318,
          null,
          -9.2913318,
          0,
          null,
          0,
          0,
          null,
          -9.2913318,
          0,
          null,
          0,
          0,
          null
         ],
         "y": [
          -9.2913318,
          -9.2913318,
          null,
          -9.2913318,
          0,
          null,
          -9.2913318,
          -9.2913318,
          null,
          -9.2913318,
          0,
          null,
          -9.2913318,
          -9.2913318,
          null,
          0,
          0,
          null,
          0,
          0,
          null,
          -9.2913318,
          0,
          null,
          -9.2913318,
          -9.2913318,
          null,
          0,
          0,
          null,
          0,
          0,
          null,
          -9.2913318,
          0,
          null
         ],
         "z": [
          0,
          0,
          null,
          0,
          0,
          null,
          0,
          8.9012551,
          null,
          0,
          0,
          null,
          0,
          8.9012551,
          null,
          0,
          0,
          null,
          0,
          8.9012551,
          null,
          8.9012551,
          8.9012551,
          null,
          8.9012551,
          8.9012551,
          null,
          0,
          8.9012551,
          null,
          8.9012551,
          8.9012551,
          null,
          8.9012551,
          8.9012551,
          null
         ]
        },
        {
         "marker": {
          "color": "grey",
          "opacity": 0.2,
          "size": 3
         },
         "mode": "markers",
         "showlegend": false,
         "type": "scatter3d",
         "x": {
          "bdata": "Sv8yLk3FIMBK/zIuTcUgwEr/Mi5NxSDASv8yLk3FIMBK/zIuTcUgwEr/Mi5NxSDAyDUg1+HqDcDINSDX4eoNwMg1INfh6g3AyDUg1+HqDcDINSDX4eoNwMg1INfh6g3ACWUO9+E0FsAJZQ734TQWwAllDvfhNBbACWUO9+E0FsAJZQ734TQWwAllDvfhNBbAwArEMcT97L/ACsQxxP3sv8AKxDHE/ey/wArEMcT97L/ACsQxxP3sv8AKxDHE/ey/4FZ5r3Z/H8DgVnmvdn8fwOBWea92fx/A4FZ5r3Z/H8DgVnmvdn8fwOBWea92fx/AXuZGfZrUCcBe5kZ9mtQJwF7mRn2a1AnAXuZGfZrUCcBe5kZ9mtQJwF7mRn2a1AnAuwz7owVAGMC7DPujBUAYwLsM+6MFQBjAuwz7owVAGMC7DPujBUAYwLsM+6MFQBjAMKSUzHCr9r8wpJTMcKv2vzCklMxwq/a/MKSUzHCr9r8wpJTMcKv2vzCklMxwq/a/",
          "dtype": "f8"
         },
         "y": {
          "bdata": "CWUO9+E0FsAJZQ734TQWwAllDvfhNBbAwArEMcT97L/ACsQxxP3sv8AKxDHE/ey/CWUO9+E0FsAJZQ734TQWwAllDvfhNBbAwArEMcT97L/ACsQxxP3sv8AKxDHE/ey/Sv8yLk3FIMBK/zIuTcUgwEr/Mi5NxSDAyDUg1+HqDcDINSDX4eoNwMg1INfh6g3ASv8yLk3FIMBK/zIuTcUgwEr/Mi5NxSDAyDUg1+HqDcDINSDX4eoNwMg1INfh6g3A4FZ5r3Z/H8DgVnmvdn8fwOBWea92fx/AXuZGfZrUCcBe5kZ9mtQJwF7mRn2a1AnA4FZ5r3Z/H8DgVnmvdn8fwOBWea92fx/AXuZGfZrUCcBe5kZ9mtQJwF7mRn2a1AnAuwz7owVAGMC7DPujBUAYwLsM+6MFQBjAMKSUzHCr9r8wpJTMcKv2vzCklMxwq/a/uwz7owVAGMC7DPujBUAYwLsM+6MFQBjAMKSUzHCr9r8wpJTMcKv2vzCklMxwq/a/",
          "dtype": "f8"
         },
         "z": {
          "bdata": "NjcKFJe89z9mqQdPcc0RQAHFDNm8qx1ANjcKFJe89z9mqQdPcc0RQAHFDNm8qx1ANjcKFJe89z9mqQdPcc0RQAHFDNm8qx1ANjcKFJe89z9mqQdPcc0RQAHFDNm8qx1ANjcKFJe89z9mqQdPcc0RQAHFDNm8qx1ANjcKFJe89z9mqQdPcc0RQAHFDNm8qx1ANjcKFJe89z9mqQdPcc0RQAHFDNm8qx1ANjcKFJe89z9mqQdPcc0RQAHFDNm8qx1AAAAAAAAAAAAyNwoUl7wHQDI3ChSXvBdAAAAAAAAAAAAyNwoUl7wHQDI3ChSXvBdAAAAAAAAAAAAyNwoUl7wHQDI3ChSXvBdAAAAAAAAAAAAyNwoUl7wHQDI3ChSXvBdAAAAAAAAAAAAyNwoUl7wHQDI3ChSXvBdAAAAAAAAAAAAyNwoUl7wHQDI3ChSXvBdAAAAAAAAAAAAyNwoUl7wHQDI3ChSXvBdAAAAAAAAAAAAyNwoUl7wHQDI3ChSXvBdA",
          "dtype": "f8"
         }
        },
        {
         "line": {
          "color": "lightgrey",
          "width": 1
         },
         "mode": "lines",
         "showlegend": false,
         "type": "scatter3d",
         "x": [
          -9.2913318,
          0,
          null,
          -9.2913318,
          -9.2913318,
          null,
          -9.2913318,
          -9.2913318,
          null,
          0,
          0,
          null,
          0,
          0,
          null,
          -9.2913318,
          0,
          null,
          -9.2913318,
          -9.2913318,
          null,
          -9.2913318,
          -9.2913318,
          null,
          -9.2913318,
          0,
          null,
          0,
          0,
          null,
          -9.2913318,
          0,
          null,
          0,
          0,
          null
         ],
         "y": [
          -9.2913318,
          -9.2913318,
          null,
          -9.2913318,
          0,
          null,
          -9.2913318,
          -9.2913318,
          null,
          -9.2913318,
          0,
          null,
          -9.2913318,
          -9.2913318,
          null,
          0,
          0,
          null,
          0,
          0,
          null,
          -9.2913318,
          0,
          null,
          -9.2913318,
          -9.2913318,
          null,
          0,
          0,
          null,
          0,
          0,
          null,
          -9.2913318,
          0,
          null
         ],
         "z": [
          8.9012551,
          8.9012551,
          null,
          8.9012551,
          8.9012551,
          null,
          8.9012551,
          17.8025102,
          null,
          8.9012551,
          8.9012551,
          null,
          8.9012551,
          17.8025102,
          null,
          8.9012551,
          8.9012551,
          null,
          8.9012551,
          17.8025102,
          null,
          17.8025102,
          17.8025102,
          null,
          17.8025102,
          17.8025102,
          null,
          8.9012551,
          17.8025102,
          null,
          17.8025102,
          17.8025102,
          null,
          17.8025102,
          17.8025102,
          null
         ]
        },
        {
         "marker": {
          "color": "grey",
          "opacity": 0.2,
          "size": 3
         },
         "mode": "markers",
         "showlegend": false,
         "type": "scatter3d",
         "x": {
          "bdata": "Sv8yLk3FIMBK/zIuTcUgwEr/Mi5NxSDASv8yLk3FIMBK/zIuTcUgwEr/Mi5NxSDAyDUg1+HqDcDINSDX4eoNwMg1INfh6g3AyDUg1+HqDcDINSDX4eoNwMg1INfh6g3ACWUO9+E0FsAJZQ734TQWwAllDvfhNBbACWUO9+E0FsAJZQ734TQWwAllDvfhNBbAwArEMcT97L/ACsQxxP3sv8AKxDHE/ey/wArEMcT97L/ACsQxxP3sv8AKxDHE/ey/4FZ5r3Z/H8DgVnmvdn8fwOBWea92fx/A4FZ5r3Z/H8DgVnmvdn8fwOBWea92fx/AXuZGfZrUCcBe5kZ9mtQJwF7mRn2a1AnAXuZGfZrUCcBe5kZ9mtQJwF7mRn2a1AnAuwz7owVAGMC7DPujBUAYwLsM+6MFQBjAuwz7owVAGMC7DPujBUAYwLsM+6MFQBjAMKSUzHCr9r8wpJTMcKv2vzCklMxwq/a/MKSUzHCr9r8wpJTMcKv2vzCklMxwq/a/",
          "dtype": "f8"
         },
         "y": {
          "bdata": "CWUO9+E0FsAJZQ734TQWwAllDvfhNBbAwArEMcT97L/ACsQxxP3sv8AKxDHE/ey/CWUO9+E0FsAJZQ734TQWwAllDvfhNBbAwArEMcT97L/ACsQxxP3sv8AKxDHE/ey/Sv8yLk3FIMBK/zIuTcUgwEr/Mi5NxSDAyDUg1+HqDcDINSDX4eoNwMg1INfh6g3ASv8yLk3FIMBK/zIuTcUgwEr/Mi5NxSDAyDUg1+HqDcDINSDX4eoNwMg1INfh6g3A4FZ5r3Z/H8DgVnmvdn8fwOBWea92fx/AXuZGfZrUCcBe5kZ9mtQJwF7mRn2a1AnA4FZ5r3Z/H8DgVnmvdn8fwOBWea92fx/AXuZGfZrUCcBe5kZ9mtQJwF7mRn2a1AnAuwz7owVAGMC7DPujBUAYwLsM+6MFQBjAMKSUzHCr9r8wpJTMcKv2vzCklMxwq/a/uwz7owVAGMC7DPujBUAYwLsM+6MFQBjAMKSUzHCr9r8wpJTMcKv2vzCklMxwq/a/",
          "dtype": "f8"
         },
         "z": {
          "bdata": "v/t4MQTFJECLiXv2KbQqQKwLv92nUTBAv/t4MQTFJECLiXv2KbQqQKwLv92nUTBAv/t4MQTFJECLiXv2KbQqQKwLv92nUTBAv/t4MQTFJECLiXv2KbQqQKwLv92nUTBAv/t4MQTFJECLiXv2KbQqQKwLv92nUTBAv/t4MQTFJECLiXv2KbQqQKwLv92nUTBAv/t4MQTFJECLiXv2KbQqQKwLv92nUTBAv/t4MQTFJECLiXv2KbQqQKwLv92nUTBA2LT3TnHNIUCkQvoTl7wnQHHQ/Ni8qy1A2LT3TnHNIUCkQvoTl7wnQHHQ/Ni8qy1A2LT3TnHNIUCkQvoTl7wnQHHQ/Ni8qy1A2LT3TnHNIUCkQvoTl7wnQHHQ/Ni8qy1A2LT3TnHNIUCkQvoTl7wnQHHQ/Ni8qy1A2LT3TnHNIUCkQvoTl7wnQHHQ/Ni8qy1A2LT3TnHNIUCkQvoTl7wnQHHQ/Ni8qy1A2LT3TnHNIUCkQvoTl7wnQHHQ/Ni8qy1A",
          "dtype": "f8"
         }
        },
        {
         "line": {
          "color": "lightgrey",
          "width": 1
         },
         "mode": "lines",
         "showlegend": false,
         "type": "scatter3d",
         "x": [
          -9.2913318,
          0,
          null,
          -9.2913318,
          -9.2913318,
          null,
          -9.2913318,
          -9.2913318,
          null,
          0,
          0,
          null,
          0,
          0,
          null,
          -9.2913318,
          0,
          null,
          -9.2913318,
          -9.2913318,
          null,
          -9.2913318,
          -9.2913318,
          null,
          -9.2913318,
          0,
          null,
          0,
          0,
          null,
          -9.2913318,
          0,
          null,
          0,
          0,
          null
         ],
         "y": [
          0,
          0,
          null,
          0,
          9.2913318,
          null,
          0,
          0,
          null,
          0,
          9.2913318,
          null,
          0,
          0,
          null,
          9.2913318,
          9.2913318,
          null,
          9.2913318,
          9.2913318,
          null,
          0,
          9.2913318,
          null,
          0,
          0,
          null,
          9.2913318,
          9.2913318,
          null,
          9.2913318,
          9.2913318,
          null,
          0,
          9.2913318,
          null
         ],
         "z": [
          0,
          0,
          null,
          0,
          0,
          null,
          0,
          8.9012551,
          null,
          0,
          0,
          null,
          0,
          8.9012551,
          null,
          0,
          0,
          null,
          0,
          8.9012551,
          null,
          8.9012551,
          8.9012551,
          null,
          8.9012551,
          8.9012551,
          null,
          0,
          8.9012551,
          null,
          8.9012551,
          8.9012551,
          null,
          8.9012551,
          8.9012551,
          null
         ]
        },
        {
         "marker": {
          "color": "grey",
          "opacity": 0.2,
          "size": 3
         },
         "mode": "markers",
         "showlegend": false,
         "type": "scatter3d",
         "x": {
          "bdata": "Sv8yLk3FIMBK/zIuTcUgwEr/Mi5NxSDASv8yLk3FIMBK/zIuTcUgwEr/Mi5NxSDAyDUg1+HqDcDINSDX4eoNwMg1INfh6g3AyDUg1+HqDcDINSDX4eoNwMg1INfh6g3ACWUO9+E0FsAJZQ734TQWwAllDvfhNBbACWUO9+E0FsAJZQ734TQWwAllDvfhNBbAwArEMcT97L/ACsQxxP3sv8AKxDHE/ey/wArEMcT97L/ACsQxxP3sv8AKxDHE/ey/4FZ5r3Z/H8DgVnmvdn8fwOBWea92fx/A4FZ5r3Z/H8DgVnmvdn8fwOBWea92fx/AXuZGfZrUCcBe5kZ9mtQJwF7mRn2a1AnAXuZGfZrUCcBe5kZ9mtQJwF7mRn2a1AnAuwz7owVAGMC7DPujBUAYwLsM+6MFQBjAuwz7owVAGMC7DPujBUAYwLsM+6MFQBjAMKSUzHCr9r8wpJTMcKv2vzCklMxwq/a/MKSUzHCr9r8wpJTMcKv2vzCklMxwq/a/",
          "dtype": "f8"
         },
         "y": {
          "bdata": "On0t1uHqDUA6fS3W4eoNQDp9Ldbh6g1AJ1H2LU3FIEAnUfYtTcUgQCdR9i1NxSBAOn0t1uHqDUA6fS3W4eoNQDp9Ldbh6g1AJ1H2LU3FIEAnUfYtTcUgQCdR9i1NxSBAlij5LcT97D+WKPktxP3sP5Yo+S3E/ew/wgiV9uE0FkDCCJX24TQWQMIIlfbhNBZAlij5LcT97D+WKPktxP3sP5Yo+S3E/ew/wgiV9uE0FkDCCJX24TQWQMIIlfbhNBZAGTOvynCr9j8ZM6/KcKv2Pxkzr8pwq/Y/d7CBowVAGEB3sIGjBUAYQHewgaMFQBhAGTOvynCr9j8ZM6/KcKv2Pxkzr8pwq/Y/d7CBowVAGEB3sIGjBUAYQHewgaMFQBhA1i1UfJrUCUDWLVR8mtQJQNYtVHya1AlAmvr/rnZ/H0Ca+v+udn8fQJr6/652fx9A1i1UfJrUCUDWLVR8mtQJQNYtVHya1AlAmvr/rnZ/H0Ca+v+udn8fQJr6/652fx9A",
          "dtype": "f8"
         },
         "z": {
          "bdata": "NjcKFJe89z9mqQdPcc0RQAHFDNm8qx1ANjcKFJe89z9mqQdPcc0RQAHFDNm8qx1ANjcKFJe89z9mqQdPcc0RQAHFDNm8qx1ANjcKFJe89z9mqQdPcc0RQAHFDNm8qx1ANjcKFJe89z9mqQdPcc0RQAHFDNm8qx1ANjcKFJe89z9mqQdPcc0RQAHFDNm8qx1ANjcKFJe89z9mqQdPcc0RQAHFDNm8qx1ANjcKFJe89z9mqQdPcc0RQAHFDNm8qx1AAAAAAAAAAAAyNwoUl7wHQDI3ChSXvBdAAAAAAAAAAAAyNwoUl7wHQDI3ChSXvBdAAAAAAAAAAAAyNwoUl7wHQDI3ChSXvBdAAAAAAAAAAAAyNwoUl7wHQDI3ChSXvBdAAAAAAAAAAAAyNwoUl7wHQDI3ChSXvBdAAAAAAAAAAAAyNwoUl7wHQDI3ChSXvBdAAAAAAAAAAAAyNwoUl7wHQDI3ChSXvBdAAAAAAAAAAAAyNwoUl7wHQDI3ChSXvBdA",
          "dtype": "f8"
         }
        },
        {
         "line": {
          "color": "lightgrey",
          "width": 1
         },
         "mode": "lines",
         "showlegend": false,
         "type": "scatter3d",
         "x": [
          -9.2913318,
          0,
          null,
          -9.2913318,
          -9.2913318,
          null,
          -9.2913318,
          -9.2913318,
          null,
          0,
          0,
          null,
          0,
          0,
          null,
          -9.2913318,
          0,
          null,
          -9.2913318,
          -9.2913318,
          null,
          -9.2913318,
          -9.2913318,
          null,
          -9.2913318,
          0,
          null,
          0,
          0,
          null,
          -9.2913318,
          0,
          null,
          0,
          0,
          null
         ],
         "y": [
          0,
          0,
          null,
          0,
          9.2913318,
          null,
          0,
          0,
          null,
          0,
          9.2913318,
          null,
          0,
          0,
          null,
          9.2913318,
          9.2913318,
          null,
          9.2913318,
          9.2913318,
          null,
          0,
          9.2913318,
          null,
          0,
          0,
          null,
          9.2913318,
          9.2913318,
          null,
          9.2913318,
          9.2913318,
          null,
          0,
          9.2913318,
          null
         ],
         "z": [
          8.9012551,
          8.9012551,
          null,
          8.9012551,
          8.9012551,
          null,
          8.9012551,
          17.8025102,
          null,
          8.9012551,
          8.9012551,
          null,
          8.9012551,
          17.8025102,
          null,
          8.9012551,
          8.9012551,
          null,
          8.9012551,
          17.8025102,
          null,
          17.8025102,
          17.8025102,
          null,
          17.8025102,
          17.8025102,
          null,
          8.9012551,
          17.8025102,
          null,
          17.8025102,
          17.8025102,
          null,
          17.8025102,
          17.8025102,
          null
         ]
        },
        {
         "marker": {
          "color": "grey",
          "opacity": 0.2,
          "size": 3
         },
         "mode": "markers",
         "showlegend": false,
         "type": "scatter3d",
         "x": {
          "bdata": "Sv8yLk3FIMBK/zIuTcUgwEr/Mi5NxSDASv8yLk3FIMBK/zIuTcUgwEr/Mi5NxSDAyDUg1+HqDcDINSDX4eoNwMg1INfh6g3AyDUg1+HqDcDINSDX4eoNwMg1INfh6g3ACWUO9+E0FsAJZQ734TQWwAllDvfhNBbACWUO9+E0FsAJZQ734TQWwAllDvfhNBbAwArEMcT97L/ACsQxxP3sv8AKxDHE/ey/wArEMcT97L/ACsQxxP3sv8AKxDHE/ey/4FZ5r3Z/H8DgVnmvdn8fwOBWea92fx/A4FZ5r3Z/H8DgVnmvdn8fwOBWea92fx/AXuZGfZrUCcBe5kZ9mtQJwF7mRn2a1AnAXuZGfZrUCcBe5kZ9mtQJwF7mRn2a1AnAuwz7owVAGMC7DPujBUAYwLsM+6MFQBjAuwz7owVAGMC7DPujBUAYwLsM+6MFQBjAMKSUzHCr9r8wpJTMcKv2vzCklMxwq/a/MKSUzHCr9r8wpJTMcKv2vzCklMxwq/a/",
          "dtype": "f8"
         },
         "y": {
          "bdata": "On0t1uHqDUA6fS3W4eoNQDp9Ldbh6g1AJ1H2LU3FIEAnUfYtTcUgQCdR9i1NxSBAOn0t1uHqDUA6fS3W4eoNQDp9Ldbh6g1AJ1H2LU3FIEAnUfYtTcUgQCdR9i1NxSBAlij5LcT97D+WKPktxP3sP5Yo+S3E/ew/wgiV9uE0FkDCCJX24TQWQMIIlfbhNBZAlij5LcT97D+WKPktxP3sP5Yo+S3E/ew/wgiV9uE0FkDCCJX24TQWQMIIlfbhNBZAGTOvynCr9j8ZM6/KcKv2Pxkzr8pwq/Y/d7CBowVAGEB3sIGjBUAYQHewgaMFQBhAGTOvynCr9j8ZM6/KcKv2Pxkzr8pwq/Y/d7CBowVAGEB3sIGjBUAYQHewgaMFQBhA1i1UfJrUCUDWLVR8mtQJQNYtVHya1AlAmvr/rnZ/H0Ca+v+udn8fQJr6/652fx9A1i1UfJrUCUDWLVR8mtQJQNYtVHya1AlAmvr/rnZ/H0Ca+v+udn8fQJr6/652fx9A",
          "dtype": "f8"
         },
         "z": {
          "bdata": "v/t4MQTFJECLiXv2KbQqQKwLv92nUTBAv/t4MQTFJECLiXv2KbQqQKwLv92nUTBAv/t4MQTFJECLiXv2KbQqQKwLv92nUTBAv/t4MQTFJECLiXv2KbQqQKwLv92nUTBAv/t4MQTFJECLiXv2KbQqQKwLv92nUTBAv/t4MQTFJECLiXv2KbQqQKwLv92nUTBAv/t4MQTFJECLiXv2KbQqQKwLv92nUTBAv/t4MQTFJECLiXv2KbQqQKwLv92nUTBA2LT3TnHNIUCkQvoTl7wnQHHQ/Ni8qy1A2LT3TnHNIUCkQvoTl7wnQHHQ/Ni8qy1A2LT3TnHNIUCkQvoTl7wnQHHQ/Ni8qy1A2LT3TnHNIUCkQvoTl7wnQHHQ/Ni8qy1A2LT3TnHNIUCkQvoTl7wnQHHQ/Ni8qy1A2LT3TnHNIUCkQvoTl7wnQHHQ/Ni8qy1A2LT3TnHNIUCkQvoTl7wnQHHQ/Ni8qy1A2LT3TnHNIUCkQvoTl7wnQHHQ/Ni8qy1A",
          "dtype": "f8"
         }
        },
        {
         "line": {
          "color": "lightgrey",
          "width": 1
         },
         "mode": "lines",
         "showlegend": false,
         "type": "scatter3d",
         "x": [
          0,
          9.2913318,
          null,
          0,
          0,
          null,
          0,
          0,
          null,
          9.2913318,
          9.2913318,
          null,
          9.2913318,
          9.2913318,
          null,
          0,
          9.2913318,
          null,
          0,
          0,
          null,
          0,
          0,
          null,
          0,
          9.2913318,
          null,
          9.2913318,
          9.2913318,
          null,
          0,
          9.2913318,
          null,
          9.2913318,
          9.2913318,
          null
         ],
         "y": [
          -9.2913318,
          -9.2913318,
          null,
          -9.2913318,
          0,
          null,
          -9.2913318,
          -9.2913318,
          null,
          -9.2913318,
          0,
          null,
          -9.2913318,
          -9.2913318,
          null,
          0,
          0,
          null,
          0,
          0,
          null,
          -9.2913318,
          0,
          null,
          -9.2913318,
          -9.2913318,
          null,
          0,
          0,
          null,
          0,
          0,
          null,
          -9.2913318,
          0,
          null
         ],
         "z": [
          -8.9012551,
          -8.9012551,
          null,
          -8.9012551,
          -8.9012551,
          null,
          -8.9012551,
          0,
          null,
          -8.9012551,
          -8.9012551,
          null,
          -8.9012551,
          0,
          null,
          -8.9012551,
          -8.9012551,
          null,
          -8.9012551,
          0,
          null,
          0,
          0,
          null,
          0,
          0,
          null,
          -8.9012551,
          0,
          null,
          0,
          0,
          null,
          0,
          0,
          null
         ]
        },
        {
         "marker": {
          "color": "grey",
          "opacity": 0.2,
          "size": 3
         },
         "mode": "markers",
         "showlegend": false,
         "type": "scatter3d",
         "x": {
          "bdata": "lij5LcT97D+WKPktxP3sP5Yo+S3E/ew/lij5LcT97D+WKPktxP3sP5Yo+S3E/ew/wgiV9uE0FkDCCJX24TQWQMIIlfbhNBZAwgiV9uE0FkDCCJX24TQWQMIIlfbhNBZAOn0t1uHqDUA6fS3W4eoNQDp9Ldbh6g1AOn0t1uHqDUA6fS3W4eoNQDp9Ldbh6g1AJ1H2LU3FIEAnUfYtTcUgQCdR9i1NxSBAJ1H2LU3FIEAnUfYtTcUgQCdR9i1NxSBAGTOvynCr9j8ZM6/KcKv2Pxkzr8pwq/Y/GTOvynCr9j8ZM6/KcKv2Pxkzr8pwq/Y/d7CBowVAGEB3sIGjBUAYQHewgaMFQBhAd7CBowVAGEB3sIGjBUAYQHewgaMFQBhA1i1UfJrUCUDWLVR8mtQJQNYtVHya1AlA1i1UfJrUCUDWLVR8mtQJQNYtVHya1AlAmvr/rnZ/H0Ca+v+udn8fQJr6/652fx9Amvr/rnZ/H0Ca+v+udn8fQJr6/652fx9A",
          "dtype": "f8"
         },
         "y": {
          "bdata": "CWUO9+E0FsAJZQ734TQWwAllDvfhNBbAwArEMcT97L/ACsQxxP3sv8AKxDHE/ey/CWUO9+E0FsAJZQ734TQWwAllDvfhNBbAwArEMcT97L/ACsQxxP3sv8AKxDHE/ey/Sv8yLk3FIMBK/zIuTcUgwEr/Mi5NxSDAyDUg1+HqDcDINSDX4eoNwMg1INfh6g3ASv8yLk3FIMBK/zIuTcUgwEr/Mi5NxSDAyDUg1+HqDcDINSDX4eoNwMg1INfh6g3A4FZ5r3Z/H8DgVnmvdn8fwOBWea92fx/AXuZGfZrUCcBe5kZ9mtQJwF7mRn2a1AnA4FZ5r3Z/H8DgVnmvdn8fwOBWea92fx/AXuZGfZrUCcBe5kZ9mtQJwF7mRn2a1AnAuwz7owVAGMC7DPujBUAYwLsM+6MFQBjAMKSUzHCr9r8wpJTMcKv2vzCklMxwq/a/uwz7owVAGMC7DPujBUAYwLsM+6MFQBjAMKSUzHCr9r8wpJTMcKv2vzCklMxwq/a/",
          "dtype": "f8"
         },
         "z": {
          "bdata": "4tvs2LyrHcBKwOdOcc0RwLySihOXvPe/4tvs2LyrHcBKwOdOcc0RwLySihOXvPe/4tvs2LyrHcBKwOdOcc0RwLySihOXvPe/4tvs2LyrHcBKwOdOcc0RwLySihOXvPe/4tvs2LyrHcBKwOdOcc0RwLySihOXvPe/4tvs2LyrHcBKwOdOcc0RwLySihOXvPe/4tvs2LyrHcBKwOdOcc0RwLySihOXvPe/4tvs2LyrHcBKwOdOcc0RwLySihOXvPe/2LT3TnHNIcAXTuoTl7wXwPxkyhOXvAfA2LT3TnHNIcAXTuoTl7wXwPxkyhOXvAfA2LT3TnHNIcAXTuoTl7wXwPxkyhOXvAfA2LT3TnHNIcAXTuoTl7wXwPxkyhOXvAfA2LT3TnHNIcAXTuoTl7wXwPxkyhOXvAfA2LT3TnHNIcAXTuoTl7wXwPxkyhOXvAfA2LT3TnHNIcAXTuoTl7wXwPxkyhOXvAfA2LT3TnHNIcAXTuoTl7wXwPxkyhOXvAfA",
          "dtype": "f8"
         }
        },
        {
         "line": {
          "color": "lightgrey",
          "width": 1
         },
         "mode": "lines",
         "showlegend": false,
         "type": "scatter3d",
         "x": [
          0,
          9.2913318,
          null,
          0,
          0,
          null,
          0,
          0,
          null,
          9.2913318,
          9.2913318,
          null,
          9.2913318,
          9.2913318,
          null,
          0,
          9.2913318,
          null,
          0,
          0,
          null,
          0,
          0,
          null,
          0,
          9.2913318,
          null,
          9.2913318,
          9.2913318,
          null,
          0,
          9.2913318,
          null,
          9.2913318,
          9.2913318,
          null
         ],
         "y": [
          -9.2913318,
          -9.2913318,
          null,
          -9.2913318,
          0,
          null,
          -9.2913318,
          -9.2913318,
          null,
          -9.2913318,
          0,
          null,
          -9.2913318,
          -9.2913318,
          null,
          0,
          0,
          null,
          0,
          0,
          null,
          -9.2913318,
          0,
          null,
          -9.2913318,
          -9.2913318,
          null,
          0,
          0,
          null,
          0,
          0,
          null,
          -9.2913318,
          0,
          null
         ],
         "z": [
          0,
          0,
          null,
          0,
          0,
          null,
          0,
          8.9012551,
          null,
          0,
          0,
          null,
          0,
          8.9012551,
          null,
          0,
          0,
          null,
          0,
          8.9012551,
          null,
          8.9012551,
          8.9012551,
          null,
          8.9012551,
          8.9012551,
          null,
          0,
          8.9012551,
          null,
          8.9012551,
          8.9012551,
          null,
          8.9012551,
          8.9012551,
          null
         ]
        },
        {
         "marker": {
          "color": "grey",
          "opacity": 0.2,
          "size": 3
         },
         "mode": "markers",
         "showlegend": false,
         "type": "scatter3d",
         "x": {
          "bdata": "lij5LcT97D+WKPktxP3sP5Yo+S3E/ew/lij5LcT97D+WKPktxP3sP5Yo+S3E/ew/wgiV9uE0FkDCCJX24TQWQMIIlfbhNBZAwgiV9uE0FkDCCJX24TQWQMIIlfbhNBZAOn0t1uHqDUA6fS3W4eoNQDp9Ldbh6g1AOn0t1uHqDUA6fS3W4eoNQDp9Ldbh6g1AJ1H2LU3FIEAnUfYtTcUgQCdR9i1NxSBAJ1H2LU3FIEAnUfYtTcUgQCdR9i1NxSBAGTOvynCr9j8ZM6/KcKv2Pxkzr8pwq/Y/GTOvynCr9j8ZM6/KcKv2Pxkzr8pwq/Y/d7CBowVAGEB3sIGjBUAYQHewgaMFQBhAd7CBowVAGEB3sIGjBUAYQHewgaMFQBhA1i1UfJrUCUDWLVR8mtQJQNYtVHya1AlA1i1UfJrUCUDWLVR8mtQJQNYtVHya1AlAmvr/rnZ/H0Ca+v+udn8fQJr6/652fx9Amvr/rnZ/H0Ca+v+udn8fQJr6/652fx9A",
          "dtype": "f8"
         },
         "y": {
          "bdata": "CWUO9+E0FsAJZQ734TQWwAllDvfhNBbAwArEMcT97L/ACsQxxP3sv8AKxDHE/ey/CWUO9+E0FsAJZQ734TQWwAllDvfhNBbAwArEMcT97L/ACsQxxP3sv8AKxDHE/ey/Sv8yLk3FIMBK/zIuTcUgwEr/Mi5NxSDAyDUg1+HqDcDINSDX4eoNwMg1INfh6g3ASv8yLk3FIMBK/zIuTcUgwEr/Mi5NxSDAyDUg1+HqDcDINSDX4eoNwMg1INfh6g3A4FZ5r3Z/H8DgVnmvdn8fwOBWea92fx/AXuZGfZrUCcBe5kZ9mtQJwF7mRn2a1AnA4FZ5r3Z/H8DgVnmvdn8fwOBWea92fx/AXuZGfZrUCcBe5kZ9mtQJwF7mRn2a1AnAuwz7owVAGMC7DPujBUAYwLsM+6MFQBjAMKSUzHCr9r8wpJTMcKv2vzCklMxwq/a/uwz7owVAGMC7DPujBUAYwLsM+6MFQBjAMKSUzHCr9r8wpJTMcKv2vzCklMxwq/a/",
          "dtype": "f8"
         },
         "z": {
          "bdata": "NjcKFJe89z9mqQdPcc0RQAHFDNm8qx1ANjcKFJe89z9mqQdPcc0RQAHFDNm8qx1ANjcKFJe89z9mqQdPcc0RQAHFDNm8qx1ANjcKFJe89z9mqQdPcc0RQAHFDNm8qx1ANjcKFJe89z9mqQdPcc0RQAHFDNm8qx1ANjcKFJe89z9mqQdPcc0RQAHFDNm8qx1ANjcKFJe89z9mqQdPcc0RQAHFDNm8qx1ANjcKFJe89z9mqQdPcc0RQAHFDNm8qx1AAAAAAAAAAAAyNwoUl7wHQDI3ChSXvBdAAAAAAAAAAAAyNwoUl7wHQDI3ChSXvBdAAAAAAAAAAAAyNwoUl7wHQDI3ChSXvBdAAAAAAAAAAAAyNwoUl7wHQDI3ChSXvBdAAAAAAAAAAAAyNwoUl7wHQDI3ChSXvBdAAAAAAAAAAAAyNwoUl7wHQDI3ChSXvBdAAAAAAAAAAAAyNwoUl7wHQDI3ChSXvBdAAAAAAAAAAAAyNwoUl7wHQDI3ChSXvBdA",
          "dtype": "f8"
         }
        },
        {
         "line": {
          "color": "lightgrey",
          "width": 1
         },
         "mode": "lines",
         "showlegend": false,
         "type": "scatter3d",
         "x": [
          0,
          9.2913318,
          null,
          0,
          0,
          null,
          0,
          0,
          null,
          9.2913318,
          9.2913318,
          null,
          9.2913318,
          9.2913318,
          null,
          0,
          9.2913318,
          null,
          0,
          0,
          null,
          0,
          0,
          null,
          0,
          9.2913318,
          null,
          9.2913318,
          9.2913318,
          null,
          0,
          9.2913318,
          null,
          9.2913318,
          9.2913318,
          null
         ],
         "y": [
          0,
          0,
          null,
          0,
          9.2913318,
          null,
          0,
          0,
          null,
          0,
          9.2913318,
          null,
          0,
          0,
          null,
          9.2913318,
          9.2913318,
          null,
          9.2913318,
          9.2913318,
          null,
          0,
          9.2913318,
          null,
          0,
          0,
          null,
          9.2913318,
          9.2913318,
          null,
          9.2913318,
          9.2913318,
          null,
          0,
          9.2913318,
          null
         ],
         "z": [
          -8.9012551,
          -8.9012551,
          null,
          -8.9012551,
          -8.9012551,
          null,
          -8.9012551,
          0,
          null,
          -8.9012551,
          -8.9012551,
          null,
          -8.9012551,
          0,
          null,
          -8.9012551,
          -8.9012551,
          null,
          -8.9012551,
          0,
          null,
          0,
          0,
          null,
          0,
          0,
          null,
          -8.9012551,
          0,
          null,
          0,
          0,
          null,
          0,
          0,
          null
         ]
        },
        {
         "marker": {
          "color": "grey",
          "opacity": 0.2,
          "size": 3
         },
         "mode": "markers",
         "showlegend": false,
         "type": "scatter3d",
         "x": {
          "bdata": "lij5LcT97D+WKPktxP3sP5Yo+S3E/ew/lij5LcT97D+WKPktxP3sP5Yo+S3E/ew/wgiV9uE0FkDCCJX24TQWQMIIlfbhNBZAwgiV9uE0FkDCCJX24TQWQMIIlfbhNBZAOn0t1uHqDUA6fS3W4eoNQDp9Ldbh6g1AOn0t1uHqDUA6fS3W4eoNQDp9Ldbh6g1AJ1H2LU3FIEAnUfYtTcUgQCdR9i1NxSBAJ1H2LU3FIEAnUfYtTcUgQCdR9i1NxSBAGTOvynCr9j8ZM6/KcKv2Pxkzr8pwq/Y/GTOvynCr9j8ZM6/KcKv2Pxkzr8pwq/Y/d7CBowVAGEB3sIGjBUAYQHewgaMFQBhAd7CBowVAGEB3sIGjBUAYQHewgaMFQBhA1i1UfJrUCUDWLVR8mtQJQNYtVHya1AlA1i1UfJrUCUDWLVR8mtQJQNYtVHya1AlAmvr/rnZ/H0Ca+v+udn8fQJr6/652fx9Amvr/rnZ/H0Ca+v+udn8fQJr6/652fx9A",
          "dtype": "f8"
         },
         "y": {
          "bdata": "On0t1uHqDUA6fS3W4eoNQDp9Ldbh6g1AJ1H2LU3FIEAnUfYtTcUgQCdR9i1NxSBAOn0t1uHqDUA6fS3W4eoNQDp9Ldbh6g1AJ1H2LU3FIEAnUfYtTcUgQCdR9i1NxSBAlij5LcT97D+WKPktxP3sP5Yo+S3E/ew/wgiV9uE0FkDCCJX24TQWQMIIlfbhNBZAlij5LcT97D+WKPktxP3sP5Yo+S3E/ew/wgiV9uE0FkDCCJX24TQWQMIIlfbhNBZAGTOvynCr9j8ZM6/KcKv2Pxkzr8pwq/Y/d7CBowVAGEB3sIGjBUAYQHewgaMFQBhAGTOvynCr9j8ZM6/KcKv2Pxkzr8pwq/Y/d7CBowVAGEB3sIGjBUAYQHewgaMFQBhA1i1UfJrUCUDWLVR8mtQJQNYtVHya1AlAmvr/rnZ/H0Ca+v+udn8fQJr6/652fx9A1i1UfJrUCUDWLVR8mtQJQNYtVHya1AlAmvr/rnZ/H0Ca+v+udn8fQJr6/652fx9A",
          "dtype": "f8"
         },
         "z": {
          "bdata": "4tvs2LyrHcBKwOdOcc0RwLySihOXvPe/4tvs2LyrHcBKwOdOcc0RwLySihOXvPe/4tvs2LyrHcBKwOdOcc0RwLySihOXvPe/4tvs2LyrHcBKwOdOcc0RwLySihOXvPe/4tvs2LyrHcBKwOdOcc0RwLySihOXvPe/4tvs2LyrHcBKwOdOcc0RwLySihOXvPe/4tvs2LyrHcBKwOdOcc0RwLySihOXvPe/4tvs2LyrHcBKwOdOcc0RwLySihOXvPe/2LT3TnHNIcAXTuoTl7wXwPxkyhOXvAfA2LT3TnHNIcAXTuoTl7wXwPxkyhOXvAfA2LT3TnHNIcAXTuoTl7wXwPxkyhOXvAfA2LT3TnHNIcAXTuoTl7wXwPxkyhOXvAfA2LT3TnHNIcAXTuoTl7wXwPxkyhOXvAfA2LT3TnHNIcAXTuoTl7wXwPxkyhOXvAfA2LT3TnHNIcAXTuoTl7wXwPxkyhOXvAfA2LT3TnHNIcAXTuoTl7wXwPxkyhOXvAfA",
          "dtype": "f8"
         }
        },
        {
         "line": {
          "color": "lightgrey",
          "width": 1
         },
         "mode": "lines",
         "showlegend": false,
         "type": "scatter3d",
         "x": [
          9.2913318,
          18.5826636,
          null,
          9.2913318,
          9.2913318,
          null,
          9.2913318,
          9.2913318,
          null,
          18.5826636,
          18.5826636,
          null,
          18.5826636,
          18.5826636,
          null,
          9.2913318,
          18.5826636,
          null,
          9.2913318,
          9.2913318,
          null,
          9.2913318,
          9.2913318,
          null,
          9.2913318,
          18.5826636,
          null,
          18.5826636,
          18.5826636,
          null,
          9.2913318,
          18.5826636,
          null,
          18.5826636,
          18.5826636,
          null
         ],
         "y": [
          -9.2913318,
          -9.2913318,
          null,
          -9.2913318,
          0,
          null,
          -9.2913318,
          -9.2913318,
          null,
          -9.2913318,
          0,
          null,
          -9.2913318,
          -9.2913318,
          null,
          0,
          0,
          null,
          0,
          0,
          null,
          -9.2913318,
          0,
          null,
          -9.2913318,
          -9.2913318,
          null,
          0,
          0,
          null,
          0,
          0,
          null,
          -9.2913318,
          0,
          null
         ],
         "z": [
          -17.8025102,
          -17.8025102,
          null,
          -17.8025102,
          -17.8025102,
          null,
          -17.8025102,
          -8.9012551,
          null,
          -17.8025102,
          -17.8025102,
          null,
          -17.8025102,
          -8.9012551,
          null,
          -17.8025102,
          -17.8025102,
          null,
          -17.8025102,
          -8.9012551,
          null,
          -8.9012551,
          -8.9012551,
          null,
          -8.9012551,
          -8.9012551,
          null,
          -17.8025102,
          -8.9012551,
          null,
          -8.9012551,
          -8.9012551,
          null,
          -8.9012551,
          -8.9012551,
          null
         ]
        },
        {
         "marker": {
          "color": "grey",
          "opacity": 0.2,
          "size": 3
         },
         "mode": "markers",
         "showlegend": false,
         "type": "scatter3d",
         "x": {
          "bdata": "XCTyswVlJEBcJPKzBWUkQFwk8rMFZSRAXCTyswVlJEBcJPKzBWUkQFwk8rMFZSRANBZdbJqvLUA0Fl1smq8tQDQWXWyary1ANBZdbJqvLUA0Fl1smq8tQDQWXWyary1AIvGd5uEPKkAi8Z3m4Q8qQCLxnebhDypAIvGd5uEPKkAi8Z3m4Q8qQCLxnebhDypAfXGETzutMUB9cYRPO60xQH1xhE87rTFAfXGETzutMUB9cYRPO60xQH1xhE87rTFANnhoipdqJUA2eGiKl2olQDZ4aIqXaiVANnhoipdqJUA2eGiKl2olQDZ4aIqXaiVADmrTQiy1LkAOatNCLLUuQA5q00IstS5ADmrTQiy1LkAOatNCLLUuQA5q00IstS5ASJ0nEFAKKUBInScQUAopQEidJxBQCilASJ0nEFAKKUBInScQUAopQEidJxBQCilAkEdJZHIqMUCQR0lkcioxQJBHSWRyKjFAkEdJZHIqMUCQR0lkcioxQJBHSWRyKjFA",
          "dtype": "f8"
         },
         "y": {
          "bdata": "CWUO9+E0FsAJZQ734TQWwAllDvfhNBbAwArEMcT97L/ACsQxxP3sv8AKxDHE/ey/CWUO9+E0FsAJZQ734TQWwAllDvfhNBbAwArEMcT97L/ACsQxxP3sv8AKxDHE/ey/Sv8yLk3FIMBK/zIuTcUgwEr/Mi5NxSDAyDUg1+HqDcDINSDX4eoNwMg1INfh6g3ASv8yLk3FIMBK/zIuTcUgwEr/Mi5NxSDAyDUg1+HqDcDINSDX4eoNwMg1INfh6g3A4FZ5r3Z/H8DgVnmvdn8fwOBWea92fx/AXuZGfZrUCcBe5kZ9mtQJwF7mRn2a1AnA4FZ5r3Z/H8DgVnmvdn8fwOBWea92fx/AXuZGfZrUCcBe5kZ9mtQJwF7mRn2a1AnAuwz7owVAGMC7DPujBUAYwLsM+6MFQBjAMKSUzHCr9r8wpJTMcKv2vzCklMxwq/a/uwz7owVAGMC7DPujBUAYwLsM+6MFQBjAMKSUzHCr9r8wpJTMcKv2vzCklMxwq/a/",
          "dtype": "f8"
         },
         "z": {
          "bdata": "ZRG33adRMMD9lGv2KbQqwDAHaTEExSTAZRG33adRMMD9lGv2KbQqwDAHaTEExSTAZRG33adRMMD9lGv2KbQqwDAHaTEExSTAZRG33adRMMD9lGv2KbQqwDAHaTEExSTAZRG33adRMMD9lGv2KbQqwDAHaTEExSTAZRG33adRMMD9lGv2KbQqwDAHaTEExSTAZRG33adRMMD9lGv2KbQqwDAHaTEExSTAZRG33adRMMD9lGv2KbQqwDAHaTEExSTA2LT3TnHNMcDk2+zYvKstwBdO6hOXvCfA2LT3TnHNMcDk2+zYvKstwBdO6hOXvCfA2LT3TnHNMcDk2+zYvKstwBdO6hOXvCfA2LT3TnHNMcDk2+zYvKstwBdO6hOXvCfA2LT3TnHNMcDk2+zYvKstwBdO6hOXvCfA2LT3TnHNMcDk2+zYvKstwBdO6hOXvCfA2LT3TnHNMcDk2+zYvKstwBdO6hOXvCfA2LT3TnHNMcDk2+zYvKstwBdO6hOXvCfA",
          "dtype": "f8"
         }
        },
        {
         "line": {
          "color": "lightgrey",
          "width": 1
         },
         "mode": "lines",
         "showlegend": false,
         "type": "scatter3d",
         "x": [
          9.2913318,
          18.5826636,
          null,
          9.2913318,
          9.2913318,
          null,
          9.2913318,
          9.2913318,
          null,
          18.5826636,
          18.5826636,
          null,
          18.5826636,
          18.5826636,
          null,
          9.2913318,
          18.5826636,
          null,
          9.2913318,
          9.2913318,
          null,
          9.2913318,
          9.2913318,
          null,
          9.2913318,
          18.5826636,
          null,
          18.5826636,
          18.5826636,
          null,
          9.2913318,
          18.5826636,
          null,
          18.5826636,
          18.5826636,
          null
         ],
         "y": [
          -9.2913318,
          -9.2913318,
          null,
          -9.2913318,
          0,
          null,
          -9.2913318,
          -9.2913318,
          null,
          -9.2913318,
          0,
          null,
          -9.2913318,
          -9.2913318,
          null,
          0,
          0,
          null,
          0,
          0,
          null,
          -9.2913318,
          0,
          null,
          -9.2913318,
          -9.2913318,
          null,
          0,
          0,
          null,
          0,
          0,
          null,
          -9.2913318,
          0,
          null
         ],
         "z": [
          -8.9012551,
          -8.9012551,
          null,
          -8.9012551,
          -8.9012551,
          null,
          -8.9012551,
          0,
          null,
          -8.9012551,
          -8.9012551,
          null,
          -8.9012551,
          0,
          null,
          -8.9012551,
          -8.9012551,
          null,
          -8.9012551,
          0,
          null,
          0,
          0,
          null,
          0,
          0,
          null,
          -8.9012551,
          0,
          null,
          0,
          0,
          null,
          0,
          0,
          null
         ]
        },
        {
         "marker": {
          "color": "grey",
          "opacity": 0.2,
          "size": 3
         },
         "mode": "markers",
         "showlegend": false,
         "type": "scatter3d",
         "x": {
          "bdata": "XCTyswVlJEBcJPKzBWUkQFwk8rMFZSRAXCTyswVlJEBcJPKzBWUkQFwk8rMFZSRANBZdbJqvLUA0Fl1smq8tQDQWXWyary1ANBZdbJqvLUA0Fl1smq8tQDQWXWyary1AIvGd5uEPKkAi8Z3m4Q8qQCLxnebhDypAIvGd5uEPKkAi8Z3m4Q8qQCLxnebhDypAfXGETzutMUB9cYRPO60xQH1xhE87rTFAfXGETzutMUB9cYRPO60xQH1xhE87rTFANnhoipdqJUA2eGiKl2olQDZ4aIqXaiVANnhoipdqJUA2eGiKl2olQDZ4aIqXaiVADmrTQiy1LkAOatNCLLUuQA5q00IstS5ADmrTQiy1LkAOatNCLLUuQA5q00IstS5ASJ0nEFAKKUBInScQUAopQEidJxBQCilASJ0nEFAKKUBInScQUAopQEidJxBQCilAkEdJZHIqMUCQR0lkcioxQJBHSWRyKjFAkEdJZHIqMUCQR0lkcioxQJBHSWRyKjFA",
          "dtype": "f8"
         },
         "y": {
          "bdata": "CWUO9+E0FsAJZQ734TQWwAllDvfhNBbAwArEMcT97L/ACsQxxP3sv8AKxDHE/ey/CWUO9+E0FsAJZQ734TQWwAllDvfhNBbAwArEMcT97L/ACsQxxP3sv8AKxDHE/ey/Sv8yLk3FIMBK/zIuTcUgwEr/Mi5NxSDAyDUg1+HqDcDINSDX4eoNwMg1INfh6g3ASv8yLk3FIMBK/zIuTcUgwEr/Mi5NxSDAyDUg1+HqDcDINSDX4eoNwMg1INfh6g3A4FZ5r3Z/H8DgVnmvdn8fwOBWea92fx/AXuZGfZrUCcBe5kZ9mtQJwF7mRn2a1AnA4FZ5r3Z/H8DgVnmvdn8fwOBWea92fx/AXuZGfZrUCcBe5kZ9mtQJwF7mRn2a1AnAuwz7owVAGMC7DPujBUAYwLsM+6MFQBjAMKSUzHCr9r8wpJTMcKv2vzCklMxwq/a/uwz7owVAGMC7DPujBUAYwLsM+6MFQBjAMKSUzHCr9r8wpJTMcKv2vzCklMxwq/a/",
          "dtype": "f8"
         },
         "z": {
          "bdata": "4tvs2LyrHcBKwOdOcc0RwLySihOXvPe/4tvs2LyrHcBKwOdOcc0RwLySihOXvPe/4tvs2LyrHcBKwOdOcc0RwLySihOXvPe/4tvs2LyrHcBKwOdOcc0RwLySihOXvPe/4tvs2LyrHcBKwOdOcc0RwLySihOXvPe/4tvs2LyrHcBKwOdOcc0RwLySihOXvPe/4tvs2LyrHcBKwOdOcc0RwLySihOXvPe/4tvs2LyrHcBKwOdOcc0RwLySihOXvPe/2LT3TnHNIcAXTuoTl7wXwPxkyhOXvAfA2LT3TnHNIcAXTuoTl7wXwPxkyhOXvAfA2LT3TnHNIcAXTuoTl7wXwPxkyhOXvAfA2LT3TnHNIcAXTuoTl7wXwPxkyhOXvAfA2LT3TnHNIcAXTuoTl7wXwPxkyhOXvAfA2LT3TnHNIcAXTuoTl7wXwPxkyhOXvAfA2LT3TnHNIcAXTuoTl7wXwPxkyhOXvAfA2LT3TnHNIcAXTuoTl7wXwPxkyhOXvAfA",
          "dtype": "f8"
         }
        },
        {
         "line": {
          "color": "lightgrey",
          "width": 1
         },
         "mode": "lines",
         "showlegend": false,
         "type": "scatter3d",
         "x": [
          9.2913318,
          18.5826636,
          null,
          9.2913318,
          9.2913318,
          null,
          9.2913318,
          9.2913318,
          null,
          18.5826636,
          18.5826636,
          null,
          18.5826636,
          18.5826636,
          null,
          9.2913318,
          18.5826636,
          null,
          9.2913318,
          9.2913318,
          null,
          9.2913318,
          9.2913318,
          null,
          9.2913318,
          18.5826636,
          null,
          18.5826636,
          18.5826636,
          null,
          9.2913318,
          18.5826636,
          null,
          18.5826636,
          18.5826636,
          null
         ],
         "y": [
          0,
          0,
          null,
          0,
          9.2913318,
          null,
          0,
          0,
          null,
          0,
          9.2913318,
          null,
          0,
          0,
          null,
          9.2913318,
          9.2913318,
          null,
          9.2913318,
          9.2913318,
          null,
          0,
          9.2913318,
          null,
          0,
          0,
          null,
          9.2913318,
          9.2913318,
          null,
          9.2913318,
          9.2913318,
          null,
          0,
          9.2913318,
          null
         ],
         "z": [
          -17.8025102,
          -17.8025102,
          null,
          -17.8025102,
          -17.8025102,
          null,
          -17.8025102,
          -8.9012551,
          null,
          -17.8025102,
          -17.8025102,
          null,
          -17.8025102,
          -8.9012551,
          null,
          -17.8025102,
          -17.8025102,
          null,
          -17.8025102,
          -8.9012551,
          null,
          -8.9012551,
          -8.9012551,
          null,
          -8.9012551,
          -8.9012551,
          null,
          -17.8025102,
          -8.9012551,
          null,
          -8.9012551,
          -8.9012551,
          null,
          -8.9012551,
          -8.9012551,
          null
         ]
        },
        {
         "marker": {
          "color": "grey",
          "opacity": 0.2,
          "size": 3
         },
         "mode": "markers",
         "showlegend": false,
         "type": "scatter3d",
         "x": {
          "bdata": "XCTyswVlJEBcJPKzBWUkQFwk8rMFZSRAXCTyswVlJEBcJPKzBWUkQFwk8rMFZSRANBZdbJqvLUA0Fl1smq8tQDQWXWyary1ANBZdbJqvLUA0Fl1smq8tQDQWXWyary1AIvGd5uEPKkAi8Z3m4Q8qQCLxnebhDypAIvGd5uEPKkAi8Z3m4Q8qQCLxnebhDypAfXGETzutMUB9cYRPO60xQH1xhE87rTFAfXGETzutMUB9cYRPO60xQH1xhE87rTFANnhoipdqJUA2eGiKl2olQDZ4aIqXaiVANnhoipdqJUA2eGiKl2olQDZ4aIqXaiVADmrTQiy1LkAOatNCLLUuQA5q00IstS5ADmrTQiy1LkAOatNCLLUuQA5q00IstS5ASJ0nEFAKKUBInScQUAopQEidJxBQCilASJ0nEFAKKUBInScQUAopQEidJxBQCilAkEdJZHIqMUCQR0lkcioxQJBHSWRyKjFAkEdJZHIqMUCQR0lkcioxQJBHSWRyKjFA",
          "dtype": "f8"
         },
         "y": {
          "bdata": "On0t1uHqDUA6fS3W4eoNQDp9Ldbh6g1AJ1H2LU3FIEAnUfYtTcUgQCdR9i1NxSBAOn0t1uHqDUA6fS3W4eoNQDp9Ldbh6g1AJ1H2LU3FIEAnUfYtTcUgQCdR9i1NxSBAlij5LcT97D+WKPktxP3sP5Yo+S3E/ew/wgiV9uE0FkDCCJX24TQWQMIIlfbhNBZAlij5LcT97D+WKPktxP3sP5Yo+S3E/ew/wgiV9uE0FkDCCJX24TQWQMIIlfbhNBZAGTOvynCr9j8ZM6/KcKv2Pxkzr8pwq/Y/d7CBowVAGEB3sIGjBUAYQHewgaMFQBhAGTOvynCr9j8ZM6/KcKv2Pxkzr8pwq/Y/d7CBowVAGEB3sIGjBUAYQHewgaMFQBhA1i1UfJrUCUDWLVR8mtQJQNYtVHya1AlAmvr/rnZ/H0Ca+v+udn8fQJr6/652fx9A1i1UfJrUCUDWLVR8mtQJQNYtVHya1AlAmvr/rnZ/H0Ca+v+udn8fQJr6/652fx9A",
          "dtype": "f8"
         },
         "z": {
          "bdata": "ZRG33adRMMD9lGv2KbQqwDAHaTEExSTAZRG33adRMMD9lGv2KbQqwDAHaTEExSTAZRG33adRMMD9lGv2KbQqwDAHaTEExSTAZRG33adRMMD9lGv2KbQqwDAHaTEExSTAZRG33adRMMD9lGv2KbQqwDAHaTEExSTAZRG33adRMMD9lGv2KbQqwDAHaTEExSTAZRG33adRMMD9lGv2KbQqwDAHaTEExSTAZRG33adRMMD9lGv2KbQqwDAHaTEExSTA2LT3TnHNMcDk2+zYvKstwBdO6hOXvCfA2LT3TnHNMcDk2+zYvKstwBdO6hOXvCfA2LT3TnHNMcDk2+zYvKstwBdO6hOXvCfA2LT3TnHNMcDk2+zYvKstwBdO6hOXvCfA2LT3TnHNMcDk2+zYvKstwBdO6hOXvCfA2LT3TnHNMcDk2+zYvKstwBdO6hOXvCfA2LT3TnHNMcDk2+zYvKstwBdO6hOXvCfA2LT3TnHNMcDk2+zYvKstwBdO6hOXvCfA",
          "dtype": "f8"
         }
        },
        {
         "line": {
          "color": "lightgrey",
          "width": 1
         },
         "mode": "lines",
         "showlegend": false,
         "type": "scatter3d",
         "x": [
          18.5826636,
          27.8739954,
          null,
          18.5826636,
          18.5826636,
          null,
          18.5826636,
          18.5826636,
          null,
          27.8739954,
          27.8739954,
          null,
          27.8739954,
          27.8739954,
          null,
          18.5826636,
          27.8739954,
          null,
          18.5826636,
          18.5826636,
          null,
          18.5826636,
          18.5826636,
          null,
          18.5826636,
          27.8739954,
          null,
          27.8739954,
          27.8739954,
          null,
          18.5826636,
          27.8739954,
          null,
          27.8739954,
          27.8739954,
          null
         ],
         "y": [
          -9.2913318,
          -9.2913318,
          null,
          -9.2913318,
          0,
          null,
          -9.2913318,
          -9.2913318,
          null,
          -9.2913318,
          0,
          null,
          -9.2913318,
          -9.2913318,
          null,
          0,
          0,
          null,
          0,
          0,
          null,
          -9.2913318,
          0,
          null,
          -9.2913318,
          -9.2913318,
          null,
          0,
          0,
          null,
          0,
          0,
          null,
          -9.2913318,
          0,
          null
         ],
         "z": [
          -17.8025102,
          -17.8025102,
          null,
          -17.8025102,
          -17.8025102,
          null,
          -17.8025102,
          -8.9012551,
          null,
          -17.8025102,
          -17.8025102,
          null,
          -17.8025102,
          -8.9012551,
          null,
          -17.8025102,
          -17.8025102,
          null,
          -17.8025102,
          -8.9012551,
          null,
          -8.9012551,
          -8.9012551,
          null,
          -8.9012551,
          -8.9012551,
          null,
          -17.8025102,
          -8.9012551,
          null,
          -8.9012551,
          -8.9012551,
          null,
          -8.9012551,
          -8.9012551,
          null
         ]
        },
        {
         "marker": {
          "color": "grey",
          "opacity": 0.2,
          "size": 3
         },
         "mode": "markers",
         "showlegend": false,
         "type": "scatter3d",
         "x": {
          "bdata": "GFuCkhd9M0AYW4KSF30zQBhbgpIXfTNAGFuCkhd9M0AYW4KSF30zQBhbgpIXfTNABNS37mEiOEAE1LfuYSI4QATUt+5hIjhABNS37mEiOEAE1LfuYSI4QATUt+5hIjhAekHYq4VSNkB6QdirhVI2QHpB2KuFUjZAekHYq4VSNkB6QdirhVI2QHpB2KuFUjZAZroNCND3OkBmug0I0Pc6QGa6DQjQ9zpAZroNCND3OkBmug0I0Pc6QGa6DQjQ9zpABYW9feD/M0AFhb194P8zQAWFvX3g/zNABYW9feD/M0AFhb194P8zQAWFvX3g/zNA8f3y2SqlOEDx/fLZKqU4QPH98tkqpThA8f3y2SqlOEDx/fLZKqU4QPH98tkqpThAjhedwLzPNUCOF53AvM81QI4XncC8zzVAjhedwLzPNUCOF53AvM81QI4XncC8zzVAepDSHAd1OkB6kNIcB3U6QHqQ0hwHdTpAepDSHAd1OkB6kNIcB3U6QHqQ0hwHdTpA",
          "dtype": "f8"
         },
         "y": {
          "bdata": "CWUO9+E0FsAJZQ734TQWwAllDvfhNBbAwArEMcT97L/ACsQxxP3sv8AKxDHE/ey/CWUO9+E0FsAJZQ734TQWwAllDvfhNBbAwArEMcT97L/ACsQxxP3sv8AKxDHE/ey/Sv8yLk3FIMBK/zIuTcUgwEr/Mi5NxSDAyDUg1+HqDcDINSDX4eoNwMg1INfh6g3ASv8yLk3FIMBK/zIuTcUgwEr/Mi5NxSDAyDUg1+HqDcDINSDX4eoNwMg1INfh6g3A4FZ5r3Z/H8DgVnmvdn8fwOBWea92fx/AXuZGfZrUCcBe5kZ9mtQJwF7mRn2a1AnA4FZ5r3Z/H8DgVnmvdn8fwOBWea92fx/AXuZGfZrUCcBe5kZ9mtQJwF7mRn2a1AnAuwz7owVAGMC7DPujBUAYwLsM+6MFQBjAMKSUzHCr9r8wpJTMcKv2vzCklMxwq/a/uwz7owVAGMC7DPujBUAYwLsM+6MFQBjAMKSUzHCr9r8wpJTMcKv2vzCklMxwq/a/",
          "dtype": "f8"
         },
         "z": {
          "bdata": "ZRG33adRMMD9lGv2KbQqwDAHaTEExSTAZRG33adRMMD9lGv2KbQqwDAHaTEExSTAZRG33adRMMD9lGv2KbQqwDAHaTEExSTAZRG33adRMMD9lGv2KbQqwDAHaTEExSTAZRG33adRMMD9lGv2KbQqwDAHaTEExSTAZRG33adRMMD9lGv2KbQqwDAHaTEExSTAZRG33adRMMD9lGv2KbQqwDAHaTEExSTAZRG33adRMMD9lGv2KbQqwDAHaTEExSTA2LT3TnHNMcDk2+zYvKstwBdO6hOXvCfA2LT3TnHNMcDk2+zYvKstwBdO6hOXvCfA2LT3TnHNMcDk2+zYvKstwBdO6hOXvCfA2LT3TnHNMcDk2+zYvKstwBdO6hOXvCfA2LT3TnHNMcDk2+zYvKstwBdO6hOXvCfA2LT3TnHNMcDk2+zYvKstwBdO6hOXvCfA2LT3TnHNMcDk2+zYvKstwBdO6hOXvCfA2LT3TnHNMcDk2+zYvKstwBdO6hOXvCfA",
          "dtype": "f8"
         }
        },
        {
         "line": {
          "color": "lightgrey",
          "width": 1
         },
         "mode": "lines",
         "showlegend": false,
         "type": "scatter3d",
         "x": [
          18.5826636,
          27.8739954,
          null,
          18.5826636,
          18.5826636,
          null,
          18.5826636,
          18.5826636,
          null,
          27.8739954,
          27.8739954,
          null,
          27.8739954,
          27.8739954,
          null,
          18.5826636,
          27.8739954,
          null,
          18.5826636,
          18.5826636,
          null,
          18.5826636,
          18.5826636,
          null,
          18.5826636,
          27.8739954,
          null,
          27.8739954,
          27.8739954,
          null,
          18.5826636,
          27.8739954,
          null,
          27.8739954,
          27.8739954,
          null
         ],
         "y": [
          -9.2913318,
          -9.2913318,
          null,
          -9.2913318,
          0,
          null,
          -9.2913318,
          -9.2913318,
          null,
          -9.2913318,
          0,
          null,
          -9.2913318,
          -9.2913318,
          null,
          0,
          0,
          null,
          0,
          0,
          null,
          -9.2913318,
          0,
          null,
          -9.2913318,
          -9.2913318,
          null,
          0,
          0,
          null,
          0,
          0,
          null,
          -9.2913318,
          0,
          null
         ],
         "z": [
          -8.9012551,
          -8.9012551,
          null,
          -8.9012551,
          -8.9012551,
          null,
          -8.9012551,
          0,
          null,
          -8.9012551,
          -8.9012551,
          null,
          -8.9012551,
          0,
          null,
          -8.9012551,
          -8.9012551,
          null,
          -8.9012551,
          0,
          null,
          0,
          0,
          null,
          0,
          0,
          null,
          -8.9012551,
          0,
          null,
          0,
          0,
          null,
          0,
          0,
          null
         ]
        },
        {
         "marker": {
          "color": "grey",
          "opacity": 0.2,
          "size": 3
         },
         "mode": "markers",
         "showlegend": false,
         "type": "scatter3d",
         "x": {
          "bdata": "GFuCkhd9M0AYW4KSF30zQBhbgpIXfTNAGFuCkhd9M0AYW4KSF30zQBhbgpIXfTNABNS37mEiOEAE1LfuYSI4QATUt+5hIjhABNS37mEiOEAE1LfuYSI4QATUt+5hIjhAekHYq4VSNkB6QdirhVI2QHpB2KuFUjZAekHYq4VSNkB6QdirhVI2QHpB2KuFUjZAZroNCND3OkBmug0I0Pc6QGa6DQjQ9zpAZroNCND3OkBmug0I0Pc6QGa6DQjQ9zpABYW9feD/M0AFhb194P8zQAWFvX3g/zNABYW9feD/M0AFhb194P8zQAWFvX3g/zNA8f3y2SqlOEDx/fLZKqU4QPH98tkqpThA8f3y2SqlOEDx/fLZKqU4QPH98tkqpThAjhedwLzPNUCOF53AvM81QI4XncC8zzVAjhedwLzPNUCOF53AvM81QI4XncC8zzVAepDSHAd1OkB6kNIcB3U6QHqQ0hwHdTpAepDSHAd1OkB6kNIcB3U6QHqQ0hwHdTpA",
          "dtype": "f8"
         },
         "y": {
          "bdata": "CWUO9+E0FsAJZQ734TQWwAllDvfhNBbAwArEMcT97L/ACsQxxP3sv8AKxDHE/ey/CWUO9+E0FsAJZQ734TQWwAllDvfhNBbAwArEMcT97L/ACsQxxP3sv8AKxDHE/ey/Sv8yLk3FIMBK/zIuTcUgwEr/Mi5NxSDAyDUg1+HqDcDINSDX4eoNwMg1INfh6g3ASv8yLk3FIMBK/zIuTcUgwEr/Mi5NxSDAyDUg1+HqDcDINSDX4eoNwMg1INfh6g3A4FZ5r3Z/H8DgVnmvdn8fwOBWea92fx/AXuZGfZrUCcBe5kZ9mtQJwF7mRn2a1AnA4FZ5r3Z/H8DgVnmvdn8fwOBWea92fx/AXuZGfZrUCcBe5kZ9mtQJwF7mRn2a1AnAuwz7owVAGMC7DPujBUAYwLsM+6MFQBjAMKSUzHCr9r8wpJTMcKv2vzCklMxwq/a/uwz7owVAGMC7DPujBUAYwLsM+6MFQBjAMKSUzHCr9r8wpJTMcKv2vzCklMxwq/a/",
          "dtype": "f8"
         },
         "z": {
          "bdata": "4tvs2LyrHcBKwOdOcc0RwLySihOXvPe/4tvs2LyrHcBKwOdOcc0RwLySihOXvPe/4tvs2LyrHcBKwOdOcc0RwLySihOXvPe/4tvs2LyrHcBKwOdOcc0RwLySihOXvPe/4tvs2LyrHcBKwOdOcc0RwLySihOXvPe/4tvs2LyrHcBKwOdOcc0RwLySihOXvPe/4tvs2LyrHcBKwOdOcc0RwLySihOXvPe/4tvs2LyrHcBKwOdOcc0RwLySihOXvPe/2LT3TnHNIcAXTuoTl7wXwPxkyhOXvAfA2LT3TnHNIcAXTuoTl7wXwPxkyhOXvAfA2LT3TnHNIcAXTuoTl7wXwPxkyhOXvAfA2LT3TnHNIcAXTuoTl7wXwPxkyhOXvAfA2LT3TnHNIcAXTuoTl7wXwPxkyhOXvAfA2LT3TnHNIcAXTuoTl7wXwPxkyhOXvAfA2LT3TnHNIcAXTuoTl7wXwPxkyhOXvAfA2LT3TnHNIcAXTuoTl7wXwPxkyhOXvAfA",
          "dtype": "f8"
         }
        },
        {
         "line": {
          "color": "black",
          "width": 2.5
         },
         "mode": "lines",
         "name": "Center Cell",
         "type": "scatter3d",
         "x": [
          0,
          9.2913318,
          null,
          0,
          0,
          null,
          0,
          0,
          null,
          9.2913318,
          9.2913318,
          null,
          9.2913318,
          9.2913318,
          null,
          0,
          9.2913318,
          null,
          0,
          0,
          null,
          0,
          0,
          null,
          0,
          9.2913318,
          null,
          9.2913318,
          9.2913318,
          null,
          0,
          9.2913318,
          null,
          9.2913318,
          9.2913318,
          null
         ],
         "y": [
          0,
          0,
          null,
          0,
          9.2913318,
          null,
          0,
          0,
          null,
          0,
          9.2913318,
          null,
          0,
          0,
          null,
          9.2913318,
          9.2913318,
          null,
          9.2913318,
          9.2913318,
          null,
          0,
          9.2913318,
          null,
          0,
          0,
          null,
          9.2913318,
          9.2913318,
          null,
          9.2913318,
          9.2913318,
          null,
          0,
          9.2913318,
          null
         ],
         "z": [
          0,
          0,
          null,
          0,
          0,
          null,
          0,
          8.9012551,
          null,
          0,
          0,
          null,
          0,
          8.9012551,
          null,
          0,
          0,
          null,
          0,
          8.9012551,
          null,
          8.9012551,
          8.9012551,
          null,
          8.9012551,
          8.9012551,
          null,
          0,
          8.9012551,
          null,
          8.9012551,
          8.9012551,
          null,
          8.9012551,
          8.9012551,
          null
         ]
        },
        {
         "marker": {
          "color": "dimgrey",
          "opacity": 0.8,
          "size": 4
         },
         "mode": "markers",
         "name": "Lattice Sites",
         "type": "scatter3d",
         "x": {
          "bdata": "lij5LcT97D+WKPktxP3sP5Yo+S3E/ew/lij5LcT97D+WKPktxP3sP5Yo+S3E/ew/wgiV9uE0FkDCCJX24TQWQMIIlfbhNBZAwgiV9uE0FkDCCJX24TQWQMIIlfbhNBZAOn0t1uHqDUA6fS3W4eoNQDp9Ldbh6g1AOn0t1uHqDUA6fS3W4eoNQDp9Ldbh6g1AJ1H2LU3FIEAnUfYtTcUgQCdR9i1NxSBAJ1H2LU3FIEAnUfYtTcUgQCdR9i1NxSBAGTOvynCr9j8ZM6/KcKv2Pxkzr8pwq/Y/GTOvynCr9j8ZM6/KcKv2Pxkzr8pwq/Y/d7CBowVAGEB3sIGjBUAYQHewgaMFQBhAd7CBowVAGEB3sIGjBUAYQHewgaMFQBhA1i1UfJrUCUDWLVR8mtQJQNYtVHya1AlA1i1UfJrUCUDWLVR8mtQJQNYtVHya1AlAmvr/rnZ/H0Ca+v+udn8fQJr6/652fx9Amvr/rnZ/H0Ca+v+udn8fQJr6/652fx9A",
          "dtype": "f8"
         },
         "y": {
          "bdata": "On0t1uHqDUA6fS3W4eoNQDp9Ldbh6g1AJ1H2LU3FIEAnUfYtTcUgQCdR9i1NxSBAOn0t1uHqDUA6fS3W4eoNQDp9Ldbh6g1AJ1H2LU3FIEAnUfYtTcUgQCdR9i1NxSBAlij5LcT97D+WKPktxP3sP5Yo+S3E/ew/wgiV9uE0FkDCCJX24TQWQMIIlfbhNBZAlij5LcT97D+WKPktxP3sP5Yo+S3E/ew/wgiV9uE0FkDCCJX24TQWQMIIlfbhNBZAGTOvynCr9j8ZM6/KcKv2Pxkzr8pwq/Y/d7CBowVAGEB3sIGjBUAYQHewgaMFQBhAGTOvynCr9j8ZM6/KcKv2Pxkzr8pwq/Y/d7CBowVAGEB3sIGjBUAYQHewgaMFQBhA1i1UfJrUCUDWLVR8mtQJQNYtVHya1AlAmvr/rnZ/H0Ca+v+udn8fQJr6/652fx9A1i1UfJrUCUDWLVR8mtQJQNYtVHya1AlAmvr/rnZ/H0Ca+v+udn8fQJr6/652fx9A",
          "dtype": "f8"
         },
         "z": {
          "bdata": "NjcKFJe89z9mqQdPcc0RQAHFDNm8qx1ANjcKFJe89z9mqQdPcc0RQAHFDNm8qx1ANjcKFJe89z9mqQdPcc0RQAHFDNm8qx1ANjcKFJe89z9mqQdPcc0RQAHFDNm8qx1ANjcKFJe89z9mqQdPcc0RQAHFDNm8qx1ANjcKFJe89z9mqQdPcc0RQAHFDNm8qx1ANjcKFJe89z9mqQdPcc0RQAHFDNm8qx1ANjcKFJe89z9mqQdPcc0RQAHFDNm8qx1AAAAAAAAAAAAyNwoUl7wHQDI3ChSXvBdAAAAAAAAAAAAyNwoUl7wHQDI3ChSXvBdAAAAAAAAAAAAyNwoUl7wHQDI3ChSXvBdAAAAAAAAAAAAyNwoUl7wHQDI3ChSXvBdAAAAAAAAAAAAyNwoUl7wHQDI3ChSXvBdAAAAAAAAAAAAyNwoUl7wHQDI3ChSXvBdAAAAAAAAAAAAyNwoUl7wHQDI3ChSXvBdAAAAAAAAAAAAyNwoUl7wHQDI3ChSXvBdA",
          "dtype": "f8"
         }
        },
        {
         "line": {
          "color": "rgba(99, 110, 250, 0.6)",
          "width": 8
         },
         "mode": "lines",
         "name": "Vacancy 0 Path",
         "type": "scatter3d",
         "x": {
          "bdata": "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",
          "dtype": "f8"
         },
         "y": {
          "bdata": "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",
          "dtype": "f8"
         },
         "z": {
          "bdata": "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",
          "dtype": "f8"
         }
        },
        {
         "marker": {
          "color": "#636EFA",
          "line": {
           "color": "black",
           "width": 2
          },
          "size": 5,
          "symbol": "diamond"
         },
         "mode": "markers",
         "name": "Vac 0 Start",
         "type": "scatter3d",
         "x": [
          0.9059773347774065
         ],
         "y": [
          3.7396885616905395
         ],
         "z": [
          1.4835425169762408
         ]
        },
        {
         "marker": {
          "color": "#636EFA",
          "line": {
           "color": "black",
           "width": 2
          },
          "size": 5,
          "symbol": "x"
         },
         "mode": "markers",
         "name": "Vac 0 End",
         "type": "scatter3d",
         "x": [
          -6.062521515222593
         ],
         "y": [
          3.2288102826229608
         ],
         "z": [
          8.901255100309575
         ]
        },
        {
         "line": {
          "color": "rgba(239, 85, 59, 0.6)",
          "width": 8
         },
         "mode": "lines",
         "name": "Vacancy 1 Path",
         "type": "scatter3d",
         "x": {
          "bdata": "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",
          "dtype": "f8"
         },
         "y": {
          "bdata": "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",
          "dtype": "f8"
         },
         "z": {
          "bdata": "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",
          "dtype": "f8"
         }
        },
        {
         "marker": {
          "color": "#EF553B",
          "line": {
           "color": "black",
           "width": 2
          },
          "size": 5,
          "symbol": "diamond"
         },
         "mode": "markers",
         "name": "Vac 1 Start",
         "type": "scatter3d",
         "x": [
          3.7396885616905395
         ],
         "y": [
          5.551643231245352
         ],
         "z": [
          4.45062755092872
         ]
        },
        {
         "marker": {
          "color": "#EF553B",
          "line": {
           "color": "black",
           "width": 2
          },
          "size": 5,
          "symbol": "x"
         },
         "mode": "markers",
         "name": "Vac 1 End",
         "type": "scatter3d",
         "x": [
          19.999519211690536
         ],
         "y": [
          -3.228810289687069
         ],
         "z": [
          -17.80251019907128
         ]
        }
       ],
       "layout": {
        "margin": {
         "b": 0,
         "l": 0,
         "r": 0,
         "t": 40
        },
        "scene": {
         "aspectmode": "data",
         "xaxis": {
          "title": {
           "text": "x (Å)"
          }
         },
         "yaxis": {
          "title": {
           "text": "y (Å)"
          }
         },
         "zaxis": {
          "title": {
           "text": "z (Å)"
          }
         }
        },
        "showlegend": true,
        "template": {
         "data": {
          "bar": [
           {
            "error_x": {
             "color": "#2a3f5f"
            },
            "error_y": {
             "color": "#2a3f5f"
            },
            "marker": {
             "line": {
              "color": "#E5ECF6",
              "width": 0.5
             },
             "pattern": {
              "fillmode": "overlay",
              "size": 10,
              "solidity": 0.2
             }
            },
            "type": "bar"
           }
          ],
          "barpolar": [
           {
            "marker": {
             "line": {
              "color": "#E5ECF6",
              "width": 0.5
             },
             "pattern": {
              "fillmode": "overlay",
              "size": 10,
              "solidity": 0.2
             }
            },
            "type": "barpolar"
           }
          ],
          "carpet": [
           {
            "aaxis": {
             "endlinecolor": "#2a3f5f",
             "gridcolor": "white",
             "linecolor": "white",
             "minorgridcolor": "white",
             "startlinecolor": "#2a3f5f"
            },
            "baxis": {
             "endlinecolor": "#2a3f5f",
             "gridcolor": "white",
             "linecolor": "white",
             "minorgridcolor": "white",
             "startlinecolor": "#2a3f5f"
            },
            "type": "carpet"
           }
          ],
          "choropleth": [
           {
            "colorbar": {
             "outlinewidth": 0,
             "ticks": ""
            },
            "type": "choropleth"
           }
          ],
          "contour": [
           {
            "colorbar": {
             "outlinewidth": 0,
             "ticks": ""
            },
            "colorscale": [
             [
              0,
              "#0d0887"
             ],
             [
              0.1111111111111111,
              "#46039f"
             ],
             [
              0.2222222222222222,
              "#7201a8"
             ],
             [
              0.3333333333333333,
              "#9c179e"
             ],
             [
              0.4444444444444444,
              "#bd3786"
             ],
             [
              0.5555555555555556,
              "#d8576b"
             ],
             [
              0.6666666666666666,
              "#ed7953"
             ],
             [
              0.7777777777777778,
              "#fb9f3a"
             ],
             [
              0.8888888888888888,
              "#fdca26"
             ],
             [
              1,
              "#f0f921"
             ]
            ],
            "type": "contour"
           }
          ],
          "contourcarpet": [
           {
            "colorbar": {
             "outlinewidth": 0,
             "ticks": ""
            },
            "type": "contourcarpet"
           }
          ],
          "heatmap": [
           {
            "colorbar": {
             "outlinewidth": 0,
             "ticks": ""
            },
            "colorscale": [
             [
              0,
              "#0d0887"
             ],
             [
              0.1111111111111111,
              "#46039f"
             ],
             [
              0.2222222222222222,
              "#7201a8"
             ],
             [
              0.3333333333333333,
              "#9c179e"
             ],
             [
              0.4444444444444444,
              "#bd3786"
             ],
             [
              0.5555555555555556,
              "#d8576b"
             ],
             [
              0.6666666666666666,
              "#ed7953"
             ],
             [
              0.7777777777777778,
              "#fb9f3a"
             ],
             [
              0.8888888888888888,
              "#fdca26"
             ],
             [
              1,
              "#f0f921"
             ]
            ],
            "type": "heatmap"
           }
          ],
          "histogram": [
           {
            "marker": {
             "pattern": {
              "fillmode": "overlay",
              "size": 10,
              "solidity": 0.2
             }
            },
            "type": "histogram"
           }
          ],
          "histogram2d": [
           {
            "colorbar": {
             "outlinewidth": 0,
             "ticks": ""
            },
            "colorscale": [
             [
              0,
              "#0d0887"
             ],
             [
              0.1111111111111111,
              "#46039f"
             ],
             [
              0.2222222222222222,
              "#7201a8"
             ],
             [
              0.3333333333333333,
              "#9c179e"
             ],
             [
              0.4444444444444444,
              "#bd3786"
             ],
             [
              0.5555555555555556,
              "#d8576b"
             ],
             [
              0.6666666666666666,
              "#ed7953"
             ],
             [
              0.7777777777777778,
              "#fb9f3a"
             ],
             [
              0.8888888888888888,
              "#fdca26"
             ],
             [
              1,
              "#f0f921"
             ]
            ],
            "type": "histogram2d"
           }
          ],
          "histogram2dcontour": [
           {
            "colorbar": {
             "outlinewidth": 0,
             "ticks": ""
            },
            "colorscale": [
             [
              0,
              "#0d0887"
             ],
             [
              0.1111111111111111,
              "#46039f"
             ],
             [
              0.2222222222222222,
              "#7201a8"
             ],
             [
              0.3333333333333333,
              "#9c179e"
             ],
             [
              0.4444444444444444,
              "#bd3786"
             ],
             [
              0.5555555555555556,
              "#d8576b"
             ],
             [
              0.6666666666666666,
              "#ed7953"
             ],
             [
              0.7777777777777778,
              "#fb9f3a"
             ],
             [
              0.8888888888888888,
              "#fdca26"
             ],
             [
              1,
              "#f0f921"
             ]
            ],
            "type": "histogram2dcontour"
           }
          ],
          "mesh3d": [
           {
            "colorbar": {
             "outlinewidth": 0,
             "ticks": ""
            },
            "type": "mesh3d"
           }
          ],
          "parcoords": [
           {
            "line": {
             "colorbar": {
              "outlinewidth": 0,
              "ticks": ""
             }
            },
            "type": "parcoords"
           }
          ],
          "pie": [
           {
            "automargin": true,
            "type": "pie"
           }
          ],
          "scatter": [
           {
            "fillpattern": {
             "fillmode": "overlay",
             "size": 10,
             "solidity": 0.2
            },
            "type": "scatter"
           }
          ],
          "scatter3d": [
           {
            "line": {
             "colorbar": {
              "outlinewidth": 0,
              "ticks": ""
             }
            },
            "marker": {
             "colorbar": {
              "outlinewidth": 0,
              "ticks": ""
             }
            },
            "type": "scatter3d"
           }
          ],
          "scattercarpet": [
           {
            "marker": {
             "colorbar": {
              "outlinewidth": 0,
              "ticks": ""
             }
            },
            "type": "scattercarpet"
           }
          ],
          "scattergeo": [
           {
            "marker": {
             "colorbar": {
              "outlinewidth": 0,
              "ticks": ""
             }
            },
            "type": "scattergeo"
           }
          ],
          "scattergl": [
           {
            "marker": {
             "colorbar": {
              "outlinewidth": 0,
              "ticks": ""
             }
            },
            "type": "scattergl"
           }
          ],
          "scattermap": [
           {
            "marker": {
             "colorbar": {
              "outlinewidth": 0,
              "ticks": ""
             }
            },
            "type": "scattermap"
           }
          ],
          "scattermapbox": [
           {
            "marker": {
             "colorbar": {
              "outlinewidth": 0,
              "ticks": ""
             }
            },
            "type": "scattermapbox"
           }
          ],
          "scatterpolar": [
           {
            "marker": {
             "colorbar": {
              "outlinewidth": 0,
              "ticks": ""
             }
            },
            "type": "scatterpolar"
           }
          ],
          "scatterpolargl": [
           {
            "marker": {
             "colorbar": {
              "outlinewidth": 0,
              "ticks": ""
             }
            },
            "type": "scatterpolargl"
           }
          ],
          "scatterternary": [
           {
            "marker": {
             "colorbar": {
              "outlinewidth": 0,
              "ticks": ""
             }
            },
            "type": "scatterternary"
           }
          ],
          "surface": [
           {
            "colorbar": {
             "outlinewidth": 0,
             "ticks": ""
            },
            "colorscale": [
             [
              0,
              "#0d0887"
             ],
             [
              0.1111111111111111,
              "#46039f"
             ],
             [
              0.2222222222222222,
              "#7201a8"
             ],
             [
              0.3333333333333333,
              "#9c179e"
             ],
             [
              0.4444444444444444,
              "#bd3786"
             ],
             [
              0.5555555555555556,
              "#d8576b"
             ],
             [
              0.6666666666666666,
              "#ed7953"
             ],
             [
              0.7777777777777778,
              "#fb9f3a"
             ],
             [
              0.8888888888888888,
              "#fdca26"
             ],
             [
              1,
              "#f0f921"
             ]
            ],
            "type": "surface"
           }
          ],
          "table": [
           {
            "cells": {
             "fill": {
              "color": "#EBF0F8"
             },
             "line": {
              "color": "white"
             }
            },
            "header": {
             "fill": {
              "color": "#C8D4E3"
             },
             "line": {
              "color": "white"
             }
            },
            "type": "table"
           }
          ]
         },
         "layout": {
          "annotationdefaults": {
           "arrowcolor": "#2a3f5f",
           "arrowhead": 0,
           "arrowwidth": 1
          },
          "autotypenumbers": "strict",
          "coloraxis": {
           "colorbar": {
            "outlinewidth": 0,
            "ticks": ""
           }
          },
          "colorscale": {
           "diverging": [
            [
             0,
             "#8e0152"
            ],
            [
             0.1,
             "#c51b7d"
            ],
            [
             0.2,
             "#de77ae"
            ],
            [
             0.3,
             "#f1b6da"
            ],
            [
             0.4,
             "#fde0ef"
            ],
            [
             0.5,
             "#f7f7f7"
            ],
            [
             0.6,
             "#e6f5d0"
            ],
            [
             0.7,
             "#b8e186"
            ],
            [
             0.8,
             "#7fbc41"
            ],
            [
             0.9,
             "#4d9221"
            ],
            [
             1,
             "#276419"
            ]
           ],
           "sequential": [
            [
             0,
             "#0d0887"
            ],
            [
             0.1111111111111111,
             "#46039f"
            ],
            [
             0.2222222222222222,
             "#7201a8"
            ],
            [
             0.3333333333333333,
             "#9c179e"
            ],
            [
             0.4444444444444444,
             "#bd3786"
            ],
            [
             0.5555555555555556,
             "#d8576b"
            ],
            [
             0.6666666666666666,
             "#ed7953"
            ],
            [
             0.7777777777777778,
             "#fb9f3a"
            ],
            [
             0.8888888888888888,
             "#fdca26"
            ],
            [
             1,
             "#f0f921"
            ]
           ],
           "sequentialminus": [
            [
             0,
             "#0d0887"
            ],
            [
             0.1111111111111111,
             "#46039f"
            ],
            [
             0.2222222222222222,
             "#7201a8"
            ],
            [
             0.3333333333333333,
             "#9c179e"
            ],
            [
             0.4444444444444444,
             "#bd3786"
            ],
            [
             0.5555555555555556,
             "#d8576b"
            ],
            [
             0.6666666666666666,
             "#ed7953"
            ],
            [
             0.7777777777777778,
             "#fb9f3a"
            ],
            [
             0.8888888888888888,
             "#fdca26"
            ],
            [
             1,
             "#f0f921"
            ]
           ]
          },
          "colorway": [
           "#636efa",
           "#EF553B",
           "#00cc96",
           "#ab63fa",
           "#FFA15A",
           "#19d3f3",
           "#FF6692",
           "#B6E880",
           "#FF97FF",
           "#FECB52"
          ],
          "font": {
           "color": "#2a3f5f"
          },
          "geo": {
           "bgcolor": "white",
           "lakecolor": "white",
           "landcolor": "#E5ECF6",
           "showlakes": true,
           "showland": true,
           "subunitcolor": "white"
          },
          "hoverlabel": {
           "align": "left"
          },
          "hovermode": "closest",
          "mapbox": {
           "style": "light"
          },
          "paper_bgcolor": "white",
          "plot_bgcolor": "#E5ECF6",
          "polar": {
           "angularaxis": {
            "gridcolor": "white",
            "linecolor": "white",
            "ticks": ""
           },
           "bgcolor": "#E5ECF6",
           "radialaxis": {
            "gridcolor": "white",
            "linecolor": "white",
            "ticks": ""
           }
          },
          "scene": {
           "xaxis": {
            "backgroundcolor": "#E5ECF6",
            "gridcolor": "white",
            "gridwidth": 2,
            "linecolor": "white",
            "showbackground": true,
            "ticks": "",
            "zerolinecolor": "white"
           },
           "yaxis": {
            "backgroundcolor": "#E5ECF6",
            "gridcolor": "white",
            "gridwidth": 2,
            "linecolor": "white",
            "showbackground": true,
            "ticks": "",
            "zerolinecolor": "white"
           },
           "zaxis": {
            "backgroundcolor": "#E5ECF6",
            "gridcolor": "white",
            "gridwidth": 2,
            "linecolor": "white",
            "showbackground": true,
            "ticks": "",
            "zerolinecolor": "white"
           }
          },
          "shapedefaults": {
           "line": {
            "color": "#2a3f5f"
           }
          },
          "ternary": {
           "aaxis": {
            "gridcolor": "white",
            "linecolor": "white",
            "ticks": ""
           },
           "baxis": {
            "gridcolor": "white",
            "linecolor": "white",
            "ticks": ""
           },
           "bgcolor": "#E5ECF6",
           "caxis": {
            "gridcolor": "white",
            "linecolor": "white",
            "ticks": ""
           }
          },
          "title": {
           "x": 0.05
          },
          "xaxis": {
           "automargin": true,
           "gridcolor": "white",
           "linecolor": "white",
           "ticks": "",
           "title": {
            "standoff": 15
           },
           "zerolinecolor": "white",
           "zerolinewidth": 2
          },
          "yaxis": {
           "automargin": true,
           "gridcolor": "white",
           "linecolor": "white",
           "ticks": "",
           "title": {
            "standoff": 15
           },
           "zerolinecolor": "white",
           "zerolinewidth": 2
          }
         }
        },
        "title": {
         "text": "Unwrapped Vacancy Trajectory (Steps 0-7893)"
        }
       }
      }
     },
     "metadata": {},
     "output_type": "display_data"
    }
   ],
   "source": [
    "calc.plot_vacancy_trajectory(vacancy_indices=[0, 1], unwrap=True)"
   ]
  },
  {
   "cell_type": "markdown",
   "id": "e592f67a",
   "metadata": {},
   "source": [
    "### Animation : Site Occupation"
   ]
  },
  {
   "cell_type": "code",
   "execution_count": 37,
   "id": "c0625701",
   "metadata": {},
   "outputs": [
    {
     "data": {
      "application/vnd.jupyter.widget-view+json": {
       "model_id": "91b377027a784b94b446af70c5b3f2b0",
       "version_major": 2,
       "version_minor": 0
      },
      "text/plain": [
       "Make Animation:   0%|                              | 0/2 [00:00<?, ?it/s]"
      ]
     },
     "metadata": {},
     "output_type": "display_data"
    },
    {
     "name": "stdout",
     "output_type": "stream",
     "text": [
      "\n",
      "Merging 2 snapshots into a GIF...\n",
      "Successfully created 'occupation_video.gif'.\n",
      "\n",
      "Execution Time: 2.579 seconds\n",
      "Peak RAM Usage: 0.021 GB\n"
     ]
    }
   ],
   "source": [
    "calc.animate_occupation(step_init=5516, step_final=5518, dpi=100, fps=5, update_alpha=0)"
   ]
  },
  {
   "cell_type": "code",
   "execution_count": 12,
   "id": "5b94ad5c",
   "metadata": {},
   "outputs": [
    {
     "name": "stdout",
     "output_type": "stream",
     "text": [
      "Step 5516 (419.216 ps) :  Site Index = [20]\n",
      "  - Fractoinal Coord = [0.9024922  0.0975078  0.83333333]\n",
      "  - Cartesian Coord  = [8.38535446 0.90597733 7.41771258]\n"
     ]
    }
   ],
   "source": [
    "for k, v in calc.transient_vacancy.items():\n",
    "    if len(v) > 0:\n",
    "        print(f\"Step {k} ({k * calc.t_interval} ps) :  Site Index = {v}\")\n",
    "        print(f\"  - Fractoinal Coord = {calc.lattice_sites[v][0]}\")\n",
    "        print(f\"  - Cartesian Coord  = {calc.lattice_sites_cart[v][0]}\")"
   ]
  },
  {
   "cell_type": "markdown",
   "id": "50296d6f",
   "metadata": {},
   "source": [
    "#### Interactive Animation"
   ]
  },
  {
   "cell_type": "code",
   "execution_count": 16,
   "id": "62030b50",
   "metadata": {},
   "outputs": [
    {
     "name": "stderr",
     "output_type": "stream",
     "text": [
      "Make Animation: 100%|##############################| 26/26 [00:00<00:00, 77.40it/s]\n"
     ]
    },
    {
     "name": "stdout",
     "output_type": "stream",
     "text": [
      "\n",
      "'trajectory_video.html' created.\n",
      "\n",
      "Execution Time: 0.626 seconds\n",
      "Peak RAM Usage: 0.035 GB\n"
     ]
    }
   ],
   "source": [
    "calc.animate_vacancy_trajectory(vacancy_indices=[0, 1], step_init=5500, step_final=5525, unwrap=False)"
   ]
  }
 ],
 "metadata": {
  "kernelspec": {
   "display_name": "vhp_ver3",
   "language": "python",
   "name": "python3"
  },
  "language_info": {
   "codemirror_mode": {
    "name": "ipython",
    "version": 3
   },
   "file_extension": ".py",
   "mimetype": "text/x-python",
   "name": "python",
   "nbconvert_exporter": "python",
   "pygments_lexer": "ipython3",
   "version": "3.10.18"
  }
 },
 "nbformat": 4,
 "nbformat_minor": 5
}
