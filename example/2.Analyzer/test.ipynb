{
 "cells": [
  {
   "cell_type": "code",
   "execution_count": 1,
   "metadata": {},
   "outputs": [
    {
     "name": "stdout",
     "output_type": "stream",
     "text": [
      "vacancy is unique.\n",
      "Note:\n",
      "User should manually fill in the information of lattice points and hopping path, since they have system dependency. \n",
      "please visit https://github.com/TY-Jeong/vachoppy to see example.\n",
      "\n",
      "unknown steps are detected.: [2, 98, 99, 272]\n",
      "\n",
      "path of vacancy :\n",
      "unknown A3 A3 A3 unknown unknown A3 A3 A3 A1 B1 A1 B1 A3 A7 B1 A3 A3 A4 unknown A3 A3 \n"
     ]
    }
   ],
   "source": [
    "from vachoppy import trajectory as traj\n",
    "\n",
    "# make trajectory object\n",
    "traj_hfo2 = traj.LatticeHopping(poscar_perf='POSCAR_SUPERCELL',\n",
    "                                xdatcar='XDATCAR_2000K_01')\n",
    "traj_hfo2.check_unique_vac()\n",
    "\n",
    "# analyzer\n",
    "anal_hfo2 = traj.Analyzer(traj=traj_hfo2)\n",
    "\n",
    "# cn3\n",
    "num_path = 7\n",
    "site_init = 'cn3'\n",
    "site_final = ['cn4', 'cn3', 'cn3', 'cn3', 'cn4', 'cn4', 'cn4']\n",
    "d = [2.54239, 2.57364, 2.78548, 2.83698, 2.93743, 2.96476, 2.98909]\n",
    "Ea = [0.74, 0.84, 0.85, 1.35, 1.91, 2.07, 2.01]\n",
    "\n",
    "for i in range(num_path):\n",
    "    path_name = f\"A{i+1}\"\n",
    "    dE = 0 if site_init==site_final[i] else 0.65\n",
    "    anal_hfo2.add_path(path_name=path_name,\n",
    "                       site_init=site_init,\n",
    "                       site_final=site_final[i],\n",
    "                       distance=d[i],\n",
    "                       Ea=Ea[i],\n",
    "                       dE=dE)\n",
    "\n",
    "## cn4\n",
    "num_path = 7\n",
    "site_init = 'cn4'\n",
    "site_final = ['cn3', 'cn4', 'cn4', 'cn4', 'cn3', 'cn3', 'cn3']\n",
    "d = [2.54239, 2.57563, 2.6619, 2.72384, 2.93743, 2.96476, 2.98909]\n",
    "Ea = [0.08, 0.32, 0.86, 0.98, 1.25, 1.42, 1.36]\n",
    "\n",
    "for i in range(num_path):\n",
    "    path_name = f\"B{i+1}\"\n",
    "    dE = 0 if site_init==site_final[i] else -0.65\n",
    "    anal_hfo2.add_path(path_name=path_name,\n",
    "                       site_init=site_init,\n",
    "                       site_final=site_final[i],\n",
    "                       distance=d[i],\n",
    "                       Ea=Ea[i],\n",
    "                       dE=dE)\n",
    "\n",
    "# lattice information\n",
    "anal_hfo2.site_names\n",
    "for lat_point in anal_hfo2.lat_points:\n",
    "    x_coord = lat_point['coord'][0]\n",
    "    if 0.13796 < x_coord < 0.36204 or 0.63796 < x_coord < 0.86204:\n",
    "        lat_point['site'] = 'cn4'\n",
    "    else:\n",
    "        lat_point['site'] = 'cn3'\n",
    "        \n",
    "\n",
    "anal_hfo2.search_path_vac()\n",
    "print('')\n",
    "anal_hfo2.print_path_vac()"
   ]
  },
  {
   "cell_type": "code",
   "execution_count": 4,
   "metadata": {},
   "outputs": [
    {
     "name": "stdout",
     "output_type": "stream",
     "text": [
      "272\n",
      "279\n",
      "279\n",
      "279\n",
      "272\n",
      "272\n",
      "279\n",
      "279\n",
      "279\n",
      "137\n",
      "221\n",
      "137\n",
      "221\n",
      "279\n",
      "209\n",
      "221\n",
      "279\n",
      "279\n",
      "250\n",
      "272\n",
      "279\n",
      "279\n"
     ]
    }
   ],
   "source": [
    "for p_vac in anal_hfo2.path_vac:\n",
    "    print(p_vac['step'])"
   ]
  },
  {
   "cell_type": "code",
   "execution_count": null,
   "metadata": {},
   "outputs": [],
   "source": []
  }
 ],
 "metadata": {
  "kernelspec": {
   "display_name": "cmd",
   "language": "python",
   "name": "python3"
  },
  "language_info": {
   "codemirror_mode": {
    "name": "ipython",
    "version": 3
   },
   "file_extension": ".py",
   "mimetype": "text/x-python",
   "name": "python",
   "nbconvert_exporter": "python",
   "pygments_lexer": "ipython3",
   "version": "3.12.4"
  }
 },
 "nbformat": 4,
 "nbformat_minor": 2
}
