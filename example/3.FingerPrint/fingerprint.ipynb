{
 "cells": [
  {
   "cell_type": "code",
   "execution_count": 13,
   "metadata": {},
   "outputs": [],
   "source": [
    "import os\n",
    "import numpy as np\n",
    "import matplotlib.pyplot as plt\n",
    "from tqdm.notebook import tqdm\n",
    "\n",
    "from vachoppy.trajectory import LatticeHopping\n",
    "from vachoppy.fingerprint import FingerPrint, CosineDistance"
   ]
  },
  {
   "cell_type": "code",
   "execution_count": 14,
   "metadata": {},
   "outputs": [],
   "source": [
    "class Distance_HfO2:\n",
    "    def __init__(self, \n",
    "                 temp, \n",
    "                 ensemble, \n",
    "                 Rmax, \n",
    "                 delta, \n",
    "                 sigma, \n",
    "                 outdir,\n",
    "                 path_poscar='./poscars_hfo2',\n",
    "                 path_traj='../xdatcar.hfo2.2200K'):\n",
    "        \n",
    "        self.temp = temp\n",
    "        self.ensemble = ensemble\n",
    "        self.Rmax = Rmax\n",
    "        self.delta = delta\n",
    "        self.sigma = sigma\n",
    "        self.outdir = outdir\n",
    "        self.path_poscar = path_poscar\n",
    "        self.path_traj = path_traj\n",
    "\n",
    "        if not os.path.isdir(outdir):\n",
    "            os.makedirs(outdir)\n",
    "\n",
    "        self.save_fingerprint_HfO2()\n",
    "        self.get_fingerprints()\n",
    "        self.plot_distance()\n",
    "\n",
    "    def save_fingerprint_HfO2(self):\n",
    "        # monoclinc\n",
    "        poscar_m = os.path.join(self.path_poscar, 'POSCAR_mHfO2')\n",
    "        poscar_t = os.path.join(self.path_poscar, 'POSCAR_tHfO2')\n",
    "        poscar_po = os.path.join(self.path_poscar, 'POSCAR_poHfO2')\n",
    "        poscar_ao = os.path.join(self.path_poscar, 'POSCAR_aoHfO2')\n",
    "\n",
    "        # get x-coords\n",
    "        fp_m_hfo = FingerPrint('Hf', 'O', poscar_m, self.Rmax, self.delta, self.sigma)\n",
    "        x = fp_m_hfo.R\n",
    "\n",
    "        # fingerprint of m-HfO2\n",
    "        fp_m_hfo = fp_m_hfo.fingerprint\n",
    "        fp_m_hfhf = FingerPrint('Hf', 'Hf', poscar_m, self.Rmax, self.delta, self.sigma).fingerprint\n",
    "        fp_m_oo = FingerPrint('O', 'O', poscar_m, self.Rmax, self.delta, self.sigma).fingerprint\n",
    "        self.fp_m = np.concatenate((fp_m_hfo, fp_m_hfhf, fp_m_oo))\n",
    "\n",
    "        # fingerprint of t-HfO2\n",
    "        fp_t_hfo = FingerPrint('Hf', 'O', poscar_t, self.Rmax, self.delta, self.sigma).fingerprint\n",
    "        fp_t_hfhf = FingerPrint('Hf', 'Hf', poscar_t, self.Rmax, self.delta, self.sigma).fingerprint\n",
    "        fp_t_oo = FingerPrint('O', 'O', poscar_t, self.Rmax, self.delta, self.sigma).fingerprint\n",
    "        self.fp_t = np.concatenate((fp_t_hfo, fp_t_hfhf, fp_t_oo))\n",
    "\n",
    "        # fingerprint of po-HfO2\n",
    "        fp_po_hfo = FingerPrint('Hf', 'O', poscar_po, self.Rmax, self.delta, self.sigma).fingerprint\n",
    "        fp_po_hfhf = FingerPrint('Hf', 'Hf', poscar_po, self.Rmax, self.delta, self.sigma).fingerprint\n",
    "        fp_po_oo = FingerPrint('O', 'O', poscar_po, self.Rmax, self.delta, self.sigma).fingerprint\n",
    "        self.fp_po = np.concatenate((fp_po_hfo, fp_po_hfhf, fp_po_oo))\n",
    "\n",
    "        # fingerprint of ao-HfO2\n",
    "        fp_ao_hfo = FingerPrint('Hf', 'O', poscar_ao, self.Rmax, self.delta, self.sigma).fingerprint\n",
    "        fp_ao_hfhf = FingerPrint('Hf', 'Hf', poscar_ao, self.Rmax, self.delta, self.sigma).fingerprint\n",
    "        fp_ao_oo = FingerPrint('O', 'O', poscar_ao, self.Rmax, self.delta, self.sigma).fingerprint\n",
    "        self.fp_ao = np.concatenate((fp_ao_hfo, fp_ao_hfhf, fp_ao_oo))\n",
    "\n",
    "        # plot fingerprints\n",
    "        x_m = np.concatenate((x, x+x[-1], x+2*x[-1]))\n",
    "        x_t = x_m + x_m[-1]\n",
    "        x_po = x_m + x_t[-1]\n",
    "        x_ao = x_m + x_po[-1]\n",
    "\n",
    "        plt.figure(figsize=(15, 5))\n",
    "        plt.plot(x_m, self.fp_m, linewidth=1.2, label='M')\n",
    "        plt.plot(x_t, self.fp_t, linewidth=1.2, label='T')\n",
    "        plt.plot(x_po, self.fp_po, linewidth=1.2, label='PO')\n",
    "        plt.plot(x_ao, self.fp_ao, linewidth=1.2, label='AO')\n",
    "        plt.axhline(0, 0, 1, color='k', linestyle='--', linewidth=1)\n",
    "\n",
    "        plt.xlabel(\"r (Å)\", fontsize=15)\n",
    "        plt.ylabel('Intensity', fontsize=15)\n",
    "        plt.legend(fontsize=15)\n",
    "\n",
    "        outfig = os.path.join(outdir, \"fingerprint_HfO2.png\")\n",
    "        plt.savefig(outfig, dpi=300)\n",
    "        plt.close()\n",
    "\n",
    "    def get_fingerprints(self):\n",
    "        \n",
    "        poscar_perf = os.path.join(self.path_traj, 'POSCAR_SUPERCELL')\n",
    "        xdatcar = os.path.join(self.path_traj, f\"XDATCAR_{self.ensemble}\")\n",
    "\n",
    "        self.traj = LatticeHopping(poscar_perf,xdatcar,50,'O')\n",
    "        self.num_step = self.traj.num_step\n",
    "\n",
    "        for step in np.arange(self.num_step):\n",
    "            self.traj.save_poscar(step=step, outdir='./poscars_traj')\n",
    "\n",
    "        self.fp_traj = []\n",
    "        for i in tqdm(range(self.num_step), desc=f\"{self.ensemble}\"):\n",
    "            poscar = f'poscars_traj/POSCAR_{i}'\n",
    "            fp_i_hfo = FingerPrint('Hf', 'O', poscar, self.Rmax, self.delta, self.sigma).fingerprint\n",
    "            fp_i_hfhf = FingerPrint('Hf', 'Hf', poscar, self.Rmax, self.delta, self.sigma).fingerprint\n",
    "            fp_i_oo = FingerPrint('O', 'O', poscar, self.Rmax, self.delta, self.sigma).fingerprint\n",
    "            self.fp_traj.append(np.concatenate((fp_i_hfo, fp_i_hfhf, fp_i_oo)))\n",
    "    \n",
    "    def plot_distance(self):\n",
    "        \n",
    "        step = np.arange(self.num_step)\n",
    "\n",
    "        # get cosine distance\n",
    "        dist_m = np.zeros(self.num_step)\n",
    "        dist_t = np.zeros(self.num_step)\n",
    "        dist_po = np.zeros(self.num_step)\n",
    "        dist_ao = np.zeros(self.num_step)\n",
    "\n",
    "        for i, fp_i in enumerate(self.fp_traj):\n",
    "            dist_m[i] = CosineDistance(self.fp_m, fp_i)\n",
    "            dist_t[i] = CosineDistance(self.fp_t, fp_i)\n",
    "            dist_po[i] = CosineDistance(self.fp_po, fp_i)\n",
    "            dist_ao[i] = CosineDistance(self.fp_ao, fp_i)\n",
    "\n",
    "        # plot cosine distance\n",
    "        plt.figure(figsize=(15, 5))\n",
    "        plt.scatter(step, dist_m-dist_m[0], s=25, label='M')\n",
    "        plt.scatter(step, dist_t-dist_t[0], s=25, label='T')\n",
    "        plt.scatter(step, dist_po-dist_po[0], s=25, label='PO')\n",
    "        plt.scatter(step, dist_ao-dist_ao[0], s=25, label='AO')\n",
    "\n",
    "        # For comparing M and T\n",
    "        # step_nearest = np.argmin(dist_t-dist_m)\n",
    "        # y_txt = (dist_m[step_nearest]+dist_t[step_nearest])/2\n",
    "\n",
    "        # plt.axvline(step_nearest, 0, 1, \n",
    "        #             color='k', linestyle='--', linewidth=1)\n",
    "        # plt.text(step_nearest+1, y_txt, \n",
    "        #         s=f\"step {step_nearest}\", fontsize=13)\n",
    "        \n",
    "        plt.xlabel(\"Step\", fontsize=15)\n",
    "        plt.ylabel('Cosine distnace', fontsize=15)\n",
    "        plt.legend(fontsize=15, loc='center left')\n",
    "        plt.title(f\"{self.temp}K ({self.ensemble})\", fontsize=15)\n",
    "\n",
    "        # write info\n",
    "        info = os.path.join(self.outdir, 'INFO.txt')\n",
    "        with open(info, 'w') as f:\n",
    "            f.write(f\"data: {self.temp}K ({self.ensemble})\\n\")\n",
    "            f.write(f\"Rmax: {self.Rmax}\\n\")\n",
    "            f.write(f\"delta: {self.delta}\\n\")\n",
    "            f.write(f\"sigma: {self.sigma}\\n\")\n",
    "\n",
    "        # save data\n",
    "        dist_tot = np.concatenate((step, dist_m, dist_t, dist_po, dist_ao)).reshape(5,-1).T\n",
    "        header = \"step, M, T, PO, AO\"\n",
    "        outtxt = os.path.join(self.outdir, f\"{self.ensemble}.txt\")\n",
    "        np.savetxt(outtxt, dist_tot, header=header)\n",
    "\n",
    "        # save figures\n",
    "        outfig = os.path.join(self.outdir, f\"{self.ensemble}.png\")\n",
    "        plt.savefig(outfig, dpi=300)\n",
    "        plt.close()"
   ]
  },
  {
   "cell_type": "code",
   "execution_count": 15,
   "metadata": {},
   "outputs": [
    {
     "data": {
      "application/vnd.jupyter.widget-view+json": {
       "model_id": "15f167e9881f4ed4bd33d64140b4473a",
       "version_major": 2,
       "version_minor": 0
      },
      "text/plain": [
       "total:   0%|          | 0/10 [00:00<?, ?it/s]"
      ]
     },
     "metadata": {},
     "output_type": "display_data"
    },
    {
     "data": {
      "application/vnd.jupyter.widget-view+json": {
       "model_id": "67a7bfe4fb3841398f18764c9f96f054",
       "version_major": 2,
       "version_minor": 0
      },
      "text/plain": [
       "01:   0%|          | 0/300 [00:00<?, ?it/s]"
      ]
     },
     "metadata": {},
     "output_type": "display_data"
    },
    {
     "data": {
      "application/vnd.jupyter.widget-view+json": {
       "model_id": "bad710bd6c384b6c9784d3301fdf96b6",
       "version_major": 2,
       "version_minor": 0
      },
      "text/plain": [
       "02:   0%|          | 0/300 [00:00<?, ?it/s]"
      ]
     },
     "metadata": {},
     "output_type": "display_data"
    },
    {
     "data": {
      "application/vnd.jupyter.widget-view+json": {
       "model_id": "0072ca71799f443687a31c16a42f13e5",
       "version_major": 2,
       "version_minor": 0
      },
      "text/plain": [
       "03:   0%|          | 0/300 [00:00<?, ?it/s]"
      ]
     },
     "metadata": {},
     "output_type": "display_data"
    },
    {
     "data": {
      "application/vnd.jupyter.widget-view+json": {
       "model_id": "eb00e2e371a24de892eef58d584dbbc1",
       "version_major": 2,
       "version_minor": 0
      },
      "text/plain": [
       "04:   0%|          | 0/300 [00:00<?, ?it/s]"
      ]
     },
     "metadata": {},
     "output_type": "display_data"
    },
    {
     "data": {
      "application/vnd.jupyter.widget-view+json": {
       "model_id": "f4052124577f4e60b110dfbd2b94ab10",
       "version_major": 2,
       "version_minor": 0
      },
      "text/plain": [
       "05:   0%|          | 0/300 [00:00<?, ?it/s]"
      ]
     },
     "metadata": {},
     "output_type": "display_data"
    },
    {
     "data": {
      "application/vnd.jupyter.widget-view+json": {
       "model_id": "d1b2643d918f487dba40405e27e19a25",
       "version_major": 2,
       "version_minor": 0
      },
      "text/plain": [
       "06:   0%|          | 0/300 [00:00<?, ?it/s]"
      ]
     },
     "metadata": {},
     "output_type": "display_data"
    },
    {
     "ename": "KeyboardInterrupt",
     "evalue": "",
     "output_type": "error",
     "traceback": [
      "\u001b[0;31m---------------------------------------------------------------------------\u001b[0m",
      "\u001b[0;31mKeyboardInterrupt\u001b[0m                         Traceback (most recent call last)",
      "Cell \u001b[0;32mIn[15], line 11\u001b[0m\n\u001b[1;32m      8\u001b[0m Rmax, delta, sigma \u001b[38;5;241m=\u001b[39m \u001b[38;5;241m10\u001b[39m, \u001b[38;5;241m0.025\u001b[39m, \u001b[38;5;241m0.05\u001b[39m\n\u001b[1;32m     10\u001b[0m \u001b[38;5;28;01mfor\u001b[39;00m ensemble \u001b[38;5;129;01min\u001b[39;00m tqdm(ensembles, desc\u001b[38;5;241m=\u001b[39m\u001b[38;5;124m'\u001b[39m\u001b[38;5;124mtotal\u001b[39m\u001b[38;5;124m'\u001b[39m):\n\u001b[0;32m---> 11\u001b[0m     _ \u001b[38;5;241m=\u001b[39m \u001b[43mDistance_HfO2\u001b[49m\u001b[43m(\u001b[49m\u001b[43mtemp\u001b[49m\u001b[43m,\u001b[49m\u001b[43m \u001b[49m\u001b[43mensemble\u001b[49m\u001b[43m,\u001b[49m\u001b[43m \u001b[49m\u001b[43mRmax\u001b[49m\u001b[43m,\u001b[49m\u001b[43m \u001b[49m\u001b[43mdelta\u001b[49m\u001b[43m,\u001b[49m\u001b[43m \u001b[49m\u001b[43msigma\u001b[49m\u001b[43m,\u001b[49m\u001b[43m \u001b[49m\u001b[43moutdir\u001b[49m\u001b[43m)\u001b[49m\n",
      "Cell \u001b[0;32mIn[14], line 25\u001b[0m, in \u001b[0;36mDistance_HfO2.__init__\u001b[0;34m(self, temp, ensemble, Rmax, delta, sigma, outdir, path_poscar, path_traj)\u001b[0m\n\u001b[1;32m     22\u001b[0m     os\u001b[38;5;241m.\u001b[39mmakedirs(outdir)\n\u001b[1;32m     24\u001b[0m \u001b[38;5;28mself\u001b[39m\u001b[38;5;241m.\u001b[39msave_fingerprint_HfO2()\n\u001b[0;32m---> 25\u001b[0m \u001b[38;5;28;43mself\u001b[39;49m\u001b[38;5;241;43m.\u001b[39;49m\u001b[43mget_fingerprints\u001b[49m\u001b[43m(\u001b[49m\u001b[43m)\u001b[49m\n\u001b[1;32m     26\u001b[0m \u001b[38;5;28mself\u001b[39m\u001b[38;5;241m.\u001b[39mplot_distance()\n",
      "Cell \u001b[0;32mIn[14], line 100\u001b[0m, in \u001b[0;36mDistance_HfO2.get_fingerprints\u001b[0;34m(self)\u001b[0m\n\u001b[1;32m     98\u001b[0m fp_i_hfo \u001b[38;5;241m=\u001b[39m FingerPrint(\u001b[38;5;124m'\u001b[39m\u001b[38;5;124mHf\u001b[39m\u001b[38;5;124m'\u001b[39m, \u001b[38;5;124m'\u001b[39m\u001b[38;5;124mO\u001b[39m\u001b[38;5;124m'\u001b[39m, poscar, \u001b[38;5;28mself\u001b[39m\u001b[38;5;241m.\u001b[39mRmax, \u001b[38;5;28mself\u001b[39m\u001b[38;5;241m.\u001b[39mdelta, \u001b[38;5;28mself\u001b[39m\u001b[38;5;241m.\u001b[39msigma)\u001b[38;5;241m.\u001b[39mfingerprint\n\u001b[1;32m     99\u001b[0m fp_i_hfhf \u001b[38;5;241m=\u001b[39m FingerPrint(\u001b[38;5;124m'\u001b[39m\u001b[38;5;124mHf\u001b[39m\u001b[38;5;124m'\u001b[39m, \u001b[38;5;124m'\u001b[39m\u001b[38;5;124mHf\u001b[39m\u001b[38;5;124m'\u001b[39m, poscar, \u001b[38;5;28mself\u001b[39m\u001b[38;5;241m.\u001b[39mRmax, \u001b[38;5;28mself\u001b[39m\u001b[38;5;241m.\u001b[39mdelta, \u001b[38;5;28mself\u001b[39m\u001b[38;5;241m.\u001b[39msigma)\u001b[38;5;241m.\u001b[39mfingerprint\n\u001b[0;32m--> 100\u001b[0m fp_i_oo \u001b[38;5;241m=\u001b[39m \u001b[43mFingerPrint\u001b[49m\u001b[43m(\u001b[49m\u001b[38;5;124;43m'\u001b[39;49m\u001b[38;5;124;43mO\u001b[39;49m\u001b[38;5;124;43m'\u001b[39;49m\u001b[43m,\u001b[49m\u001b[43m \u001b[49m\u001b[38;5;124;43m'\u001b[39;49m\u001b[38;5;124;43mO\u001b[39;49m\u001b[38;5;124;43m'\u001b[39;49m\u001b[43m,\u001b[49m\u001b[43m \u001b[49m\u001b[43mposcar\u001b[49m\u001b[43m,\u001b[49m\u001b[43m \u001b[49m\u001b[38;5;28;43mself\u001b[39;49m\u001b[38;5;241;43m.\u001b[39;49m\u001b[43mRmax\u001b[49m\u001b[43m,\u001b[49m\u001b[43m \u001b[49m\u001b[38;5;28;43mself\u001b[39;49m\u001b[38;5;241;43m.\u001b[39;49m\u001b[43mdelta\u001b[49m\u001b[43m,\u001b[49m\u001b[43m \u001b[49m\u001b[38;5;28;43mself\u001b[39;49m\u001b[38;5;241;43m.\u001b[39;49m\u001b[43msigma\u001b[49m\u001b[43m)\u001b[49m\u001b[38;5;241m.\u001b[39mfingerprint\n\u001b[1;32m    101\u001b[0m \u001b[38;5;28mself\u001b[39m\u001b[38;5;241m.\u001b[39mfp_traj\u001b[38;5;241m.\u001b[39mappend(np\u001b[38;5;241m.\u001b[39mconcatenate((fp_i_hfo, fp_i_hfhf, fp_i_oo)))\n",
      "File \u001b[0;32m~/github/VacHopPy/vachoppy/fingerprint.py:58\u001b[0m, in \u001b[0;36mFingerPrint.__init__\u001b[0;34m(self, A, B, poscar, Rmax, delta, sigma, dirac)\u001b[0m\n\u001b[1;32m     55\u001b[0m \u001b[38;5;28mself\u001b[39m\u001b[38;5;241m.\u001b[39mget_extended_coords_B()\n\u001b[1;32m     57\u001b[0m \u001b[38;5;66;03m# calculate fingerprint\u001b[39;00m\n\u001b[0;32m---> 58\u001b[0m \u001b[38;5;28;43mself\u001b[39;49m\u001b[38;5;241;43m.\u001b[39;49m\u001b[43mget_fingerprint\u001b[49m\u001b[43m(\u001b[49m\u001b[43m)\u001b[49m\n",
      "File \u001b[0;32m~/github/VacHopPy/vachoppy/fingerprint.py:120\u001b[0m, in \u001b[0;36mFingerPrint.get_fingerprint\u001b[0;34m(self)\u001b[0m\n\u001b[1;32m    118\u001b[0m \u001b[38;5;28;01mdef\u001b[39;00m \u001b[38;5;21mget_fingerprint\u001b[39m(\u001b[38;5;28mself\u001b[39m):\n\u001b[1;32m    119\u001b[0m     \u001b[38;5;28;01mfor\u001b[39;00m coord_A \u001b[38;5;129;01min\u001b[39;00m \u001b[38;5;28mself\u001b[39m\u001b[38;5;241m.\u001b[39mposition[\u001b[38;5;28mself\u001b[39m\u001b[38;5;241m.\u001b[39midx_A][\u001b[38;5;124m'\u001b[39m\u001b[38;5;124mcoords\u001b[39m\u001b[38;5;124m'\u001b[39m]:\n\u001b[0;32m--> 120\u001b[0m         \u001b[38;5;28mself\u001b[39m\u001b[38;5;241m.\u001b[39mfingerprint \u001b[38;5;241m+\u001b[39m\u001b[38;5;241m=\u001b[39m \u001b[38;5;28;43mself\u001b[39;49m\u001b[38;5;241;43m.\u001b[39;49m\u001b[43mget_fingerprint_i\u001b[49m\u001b[43m(\u001b[49m\u001b[43mcoord_A\u001b[49m\u001b[43m)\u001b[49m\n\u001b[1;32m    122\u001b[0m     \u001b[38;5;28mself\u001b[39m\u001b[38;5;241m.\u001b[39mfingerprint \u001b[38;5;241m*\u001b[39m\u001b[38;5;241m=\u001b[39m \u001b[38;5;28mself\u001b[39m\u001b[38;5;241m.\u001b[39mV_unit \u001b[38;5;241m/\u001b[39m \u001b[38;5;28mself\u001b[39m\u001b[38;5;241m.\u001b[39mposition[\u001b[38;5;28mself\u001b[39m\u001b[38;5;241m.\u001b[39midx_A][\u001b[38;5;124m'\u001b[39m\u001b[38;5;124mnum\u001b[39m\u001b[38;5;124m'\u001b[39m]\n\u001b[1;32m    123\u001b[0m     \u001b[38;5;28mself\u001b[39m\u001b[38;5;241m.\u001b[39mfingerprint \u001b[38;5;241m-\u001b[39m\u001b[38;5;241m=\u001b[39m \u001b[38;5;241m1\u001b[39m\n",
      "File \u001b[0;32m~/github/VacHopPy/vachoppy/fingerprint.py:140\u001b[0m, in \u001b[0;36mFingerPrint.get_fingerprint_i\u001b[0;34m(self, coord_A_i)\u001b[0m\n\u001b[1;32m    137\u001b[0m fingerprint_i \u001b[38;5;241m=\u001b[39m np\u001b[38;5;241m.\u001b[39mzeros_like(\u001b[38;5;28mself\u001b[39m\u001b[38;5;241m.\u001b[39mfingerprint)\n\u001b[1;32m    139\u001b[0m \u001b[38;5;28;01mfor\u001b[39;00m idx, r \u001b[38;5;129;01min\u001b[39;00m \u001b[38;5;28menumerate\u001b[39m(\u001b[38;5;28mself\u001b[39m\u001b[38;5;241m.\u001b[39mR):\n\u001b[0;32m--> 140\u001b[0m     dirac_values \u001b[38;5;241m=\u001b[39m \u001b[38;5;28;43mself\u001b[39;49m\u001b[38;5;241;43m.\u001b[39;49m\u001b[43mdirac_func\u001b[49m\u001b[43m(\u001b[49m\u001b[43mr\u001b[49m\u001b[43m \u001b[49m\u001b[38;5;241;43m-\u001b[39;49m\u001b[43m \u001b[49m\u001b[43mR_ij\u001b[49m\u001b[43m)\u001b[49m\n\u001b[1;32m    141\u001b[0m     valid_indices \u001b[38;5;241m=\u001b[39m R_ij \u001b[38;5;241m<\u001b[39m\u001b[38;5;241m=\u001b[39m \u001b[38;5;28mself\u001b[39m\u001b[38;5;241m.\u001b[39mRmax\n\u001b[1;32m    142\u001b[0m     fingerprint_i[idx] \u001b[38;5;241m=\u001b[39m np\u001b[38;5;241m.\u001b[39msum(\n\u001b[1;32m    143\u001b[0m         dirac_values[valid_indices] \u001b[38;5;241m/\u001b[39m R_ij[valid_indices]\u001b[38;5;241m*\u001b[39m\u001b[38;5;241m*\u001b[39m\u001b[38;5;241m2\u001b[39m)\\\n\u001b[1;32m    144\u001b[0m               \u001b[38;5;241m/\u001b[39m (\u001b[38;5;241m4\u001b[39m \u001b[38;5;241m*\u001b[39m np\u001b[38;5;241m.\u001b[39mpi \u001b[38;5;241m*\u001b[39m N_B \u001b[38;5;241m*\u001b[39m \u001b[38;5;28mself\u001b[39m\u001b[38;5;241m.\u001b[39mdelta)\n",
      "File \u001b[0;32m~/github/VacHopPy/vachoppy/fingerprint.py:93\u001b[0m, in \u001b[0;36mFingerPrint.dirac_func\u001b[0;34m(self, x)\u001b[0m\n\u001b[1;32m     91\u001b[0m \u001b[38;5;28;01mdef\u001b[39;00m \u001b[38;5;21mdirac_func\u001b[39m(\u001b[38;5;28mself\u001b[39m, x):\n\u001b[1;32m     92\u001b[0m     \u001b[38;5;28;01mif\u001b[39;00m \u001b[38;5;28mself\u001b[39m\u001b[38;5;241m.\u001b[39mdirac[\u001b[38;5;241m0\u001b[39m] \u001b[38;5;241m==\u001b[39m \u001b[38;5;124m'\u001b[39m\u001b[38;5;124mg\u001b[39m\u001b[38;5;124m'\u001b[39m:\n\u001b[0;32m---> 93\u001b[0m         \u001b[38;5;28;01mreturn\u001b[39;00m \u001b[38;5;28;43mself\u001b[39;49m\u001b[38;5;241;43m.\u001b[39;49m\u001b[43mgaussian_func\u001b[49m\u001b[43m(\u001b[49m\u001b[43mx\u001b[49m\u001b[43m)\u001b[49m\n\u001b[1;32m     94\u001b[0m     \u001b[38;5;28;01melif\u001b[39;00m \u001b[38;5;28mself\u001b[39m\u001b[38;5;241m.\u001b[39mdirac[\u001b[38;5;241m0\u001b[39m] \u001b[38;5;241m==\u001b[39m \u001b[38;5;124m'\u001b[39m\u001b[38;5;124ms\u001b[39m\u001b[38;5;124m'\u001b[39m:\n\u001b[1;32m     95\u001b[0m         \u001b[38;5;28;01mreturn\u001b[39;00m \u001b[38;5;28mself\u001b[39m\u001b[38;5;241m.\u001b[39msquare_func(x)\n",
      "File \u001b[0;32m~/github/VacHopPy/vachoppy/fingerprint.py:86\u001b[0m, in \u001b[0;36mFingerPrint.gaussian_func\u001b[0;34m(self, x)\u001b[0m\n\u001b[1;32m     84\u001b[0m \u001b[38;5;28;01mdef\u001b[39;00m \u001b[38;5;21mgaussian_func\u001b[39m(\u001b[38;5;28mself\u001b[39m, x):\n\u001b[1;32m     85\u001b[0m     \u001b[38;5;28;01mreturn\u001b[39;00m (\u001b[38;5;241m1\u001b[39m\u001b[38;5;241m/\u001b[39mnp\u001b[38;5;241m.\u001b[39msqrt(\u001b[38;5;241m2\u001b[39m\u001b[38;5;241m*\u001b[39mnp\u001b[38;5;241m.\u001b[39mpi\u001b[38;5;241m*\u001b[39m\u001b[38;5;28mself\u001b[39m\u001b[38;5;241m.\u001b[39msigma\u001b[38;5;241m*\u001b[39m\u001b[38;5;241m*\u001b[39m\u001b[38;5;241m2\u001b[39m)) \u001b[38;5;241m*\u001b[39m\\\n\u001b[0;32m---> 86\u001b[0m            \u001b[43mnp\u001b[49m\u001b[38;5;241;43m.\u001b[39;49m\u001b[43mexp\u001b[49m\u001b[43m(\u001b[49m\u001b[38;5;241;43m-\u001b[39;49m\u001b[43mx\u001b[49m\u001b[38;5;241;43m*\u001b[39;49m\u001b[38;5;241;43m*\u001b[39;49m\u001b[38;5;241;43m2\u001b[39;49m\u001b[43m \u001b[49m\u001b[38;5;241;43m/\u001b[39;49m\u001b[43m \u001b[49m\u001b[43m(\u001b[49m\u001b[38;5;241;43m2\u001b[39;49m\u001b[38;5;241;43m*\u001b[39;49m\u001b[38;5;28;43mself\u001b[39;49m\u001b[38;5;241;43m.\u001b[39;49m\u001b[43msigma\u001b[49m\u001b[38;5;241;43m*\u001b[39;49m\u001b[38;5;241;43m*\u001b[39;49m\u001b[38;5;241;43m2\u001b[39;49m\u001b[43m)\u001b[49m\u001b[43m)\u001b[49m\n",
      "\u001b[0;31mKeyboardInterrupt\u001b[0m: "
     ]
    }
   ],
   "source": [
    "temp = 2200\n",
    "outdir = f\"{temp}K\"\n",
    "ensembles = [format(i+1,'02') for i in range(10)]\n",
    "\n",
    "# Rmax, delta, sigma = 20, 0.004, 0.1\n",
    "# Rmax, delta, sigma = 17.5, 0.007, 0.1\n",
    "# Rmax, delta, sigma = 12, 0.02, 0.1\n",
    "Rmax, delta, sigma = 10, 0.025, 0.05\n",
    "\n",
    "for ensemble in tqdm(ensembles, desc='total'):\n",
    "    _ = Distance_HfO2(temp, ensemble, Rmax, delta, sigma, outdir)"
   ]
  }
 ],
 "metadata": {
  "kernelspec": {
   "display_name": "cmd",
   "language": "python",
   "name": "python3"
  },
  "language_info": {
   "codemirror_mode": {
    "name": "ipython",
    "version": 3
   },
   "file_extension": ".py",
   "mimetype": "text/x-python",
   "name": "python",
   "nbconvert_exporter": "python",
   "pygments_lexer": "ipython3",
   "version": "3.11.5"
  }
 },
 "nbformat": 4,
 "nbformat_minor": 2
}
