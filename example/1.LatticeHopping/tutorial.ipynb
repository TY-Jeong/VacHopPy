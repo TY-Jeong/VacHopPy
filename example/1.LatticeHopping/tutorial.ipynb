{
 "cells": [
  {
   "cell_type": "code",
   "execution_count": 18,
   "metadata": {},
   "outputs": [],
   "source": [
    "import os\n",
    "import sys\n",
    "import numpy as np\n",
    "from vachoppy import trajectory"
   ]
  },
  {
   "cell_type": "code",
   "execution_count": 19,
   "metadata": {},
   "outputs": [],
   "source": [
    "traj = trajectory.LatticeHopping(poscar_perf='data/POSCAR_novac',\n",
    "                                 xdatcar='data/XDATCAR_01',\n",
    "                                 interval=50, \n",
    "                                 target='O')"
   ]
  },
  {
   "cell_type": "code",
   "execution_count": 20,
   "metadata": {},
   "outputs": [],
   "source": [
    "# traj.animation(update_alpha=0, label=True)"
   ]
  },
  {
   "cell_type": "code",
   "execution_count": 21,
   "metadata": {},
   "outputs": [
    {
     "name": "stdout",
     "output_type": "stream",
     "text": [
      "there is no connected site.\n",
      "find the vacancy site for your self. (step: 127)\n"
     ]
    }
   ],
   "source": [
    "traj.check_connectivity(start=1)"
   ]
  },
  {
   "cell_type": "code",
   "execution_count": 22,
   "metadata": {},
   "outputs": [],
   "source": [
    "traj.update_vac(step=127, lat_point=7) \n",
    "traj.check_connectivity(start=127)"
   ]
  },
  {
   "cell_type": "code",
   "execution_count": 23,
   "metadata": {},
   "outputs": [
    {
     "name": "stdout",
     "output_type": "stream",
     "text": [
      "vacancy is unique.\n"
     ]
    }
   ],
   "source": [
    "traj.check_unique_vac()"
   ]
  },
  {
   "cell_type": "code",
   "execution_count": 24,
   "metadata": {},
   "outputs": [],
   "source": [
    "anal_hfo2 =  trajectory.Analyzer(traj=traj)"
   ]
  },
  {
   "cell_type": "code",
   "execution_count": 25,
   "metadata": {},
   "outputs": [],
   "source": [
    "traj.check_connectivity(start=1)"
   ]
  },
  {
   "cell_type": "code",
   "execution_count": 26,
   "metadata": {},
   "outputs": [],
   "source": [
    "traj.update_vac(step=127, lat_point=7) \n",
    "traj.check_connectivity(start=127)"
   ]
  },
  {
   "cell_type": "code",
   "execution_count": 27,
   "metadata": {},
   "outputs": [
    {
     "name": "stdout",
     "output_type": "stream",
     "text": [
      "vacancy is unique.\n"
     ]
    }
   ],
   "source": [
    "traj.check_unique_vac()"
   ]
  },
  {
   "cell_type": "code",
   "execution_count": 28,
   "metadata": {},
   "outputs": [],
   "source": [
    "final_A = ['cn4', 'cn3', 'cn3', 'cn3', 'cn4', 'cn4', 'cn4']\n",
    "final_B = ['cn3', 'cn4', 'cn4', 'cn4', 'cn3', 'cn3', 'cn3']\n",
    "\n",
    "d_A = [2.54239, 2.57364, 2.78548, 2.83698, 2.93743, 2.96476, 2.98909]\n",
    "d_B = [2.54239, 2.57563, 2.6619, 2.72384, 2.93743, 2.96476, 2.98909]\n",
    "\n",
    "Ea_A = [0.74, 0.84, 0.85, 1.35, 1.91, 2.07, 2.01]\n",
    "Ea_B = [0.08, 0.32, 0.86, 0.98, 1.25, 1.42, 1.36]\n",
    "\n",
    "for i in range(7):\n",
    "    anal_hfo2.add_path(f\"A{i+1}\", 'cn3', final_A[i], d_A[i], Ea_A[i])\n",
    "    anal_hfo2.add_path(f\"B{i+1}\", 'cn4', final_B[i], d_B[i], Ea_B[i])"
   ]
  },
  {
   "cell_type": "code",
   "execution_count": 29,
   "metadata": {},
   "outputs": [],
   "source": [
    "anal_hfo2.add_path('New', 'cn4', 'cn4', 3.6471, 3.94)"
   ]
  },
  {
   "cell_type": "code",
   "execution_count": 30,
   "metadata": {},
   "outputs": [
    {
     "name": "stdout",
     "output_type": "stream",
     "text": [
      "name\tinit\tfinal\td (Å)\tEa (eV)\tdE (eV)\n",
      "A1\tcn3\tcn4\t2.542\t0.74\tNan\n",
      "A2\tcn3\tcn3\t2.574\t0.84\tNan\n",
      "A3\tcn3\tcn3\t2.785\t0.85\tNan\n",
      "A4\tcn3\tcn3\t2.837\t1.35\tNan\n",
      "A5\tcn3\tcn4\t2.937\t1.91\tNan\n",
      "A6\tcn3\tcn4\t2.965\t2.07\tNan\n",
      "A7\tcn3\tcn4\t2.989\t2.01\tNan\n",
      "B1\tcn4\tcn3\t2.542\t0.08\tNan\n",
      "B2\tcn4\tcn4\t2.576\t0.32\tNan\n",
      "B3\tcn4\tcn4\t2.662\t0.86\tNan\n",
      "B4\tcn4\tcn4\t2.724\t0.98\tNan\n",
      "B5\tcn4\tcn3\t2.937\t1.25\tNan\n",
      "B6\tcn4\tcn3\t2.965\t1.42\tNan\n",
      "B7\tcn4\tcn3\t2.989\t1.36\tNan\n",
      "New\tcn4\tcn4\t3.647\t3.94\tNan\n"
     ]
    }
   ],
   "source": [
    "anal_hfo2.print_path()"
   ]
  },
  {
   "cell_type": "code",
   "execution_count": 31,
   "metadata": {},
   "outputs": [],
   "source": [
    "for lat_p in anal_hfo2.lat_points:\n",
    "    x_coord = lat_p['coord'][0]\n",
    "    if 0.13796 < x_coord < 0.36204 or 0.63796 < x_coord < 0.86204:\n",
    "        lat_p['site'] = 'cn4'\n",
    "    else:\n",
    "        lat_p['site'] = 'cn3'"
   ]
  },
  {
   "cell_type": "code",
   "execution_count": 32,
   "metadata": {},
   "outputs": [
    {
     "name": "stdout",
     "output_type": "stream",
     "text": [
      "unknown steps are detected.: [116, 118, 186, 246, 247]\n",
      "xdatcar file : data/XDATCAR_01\n",
      "poscar_per file: data/POSCAR_novac\n",
      "\n",
      "total counts : 42\n",
      "hopping sequence :\n",
      "A3 A3 A3 A3 A1 B1 A1 B2 B2 B1 A3 A1 B1 A3 A3 A4 A1 B7 A1 unknown unknown A1 New New B1 A1 B1 unknown A1 B3 B3 B3 B3 B3 B3 unknown unknown B7 A7 B1 A1 B3 \n",
      "maximum Ea : 3.94 eV\n"
     ]
    },
    {
     "data": {
      "image/png": "[encoded data removed]",
      "text/plain": [
       "<Figure size 640x480 with 1 Axes>"
      ]
     },
     "metadata": {},
     "output_type": "display_data"
    }
   ],
   "source": [
    "anal_hfo2.search_path_vac()\n",
    "anal_hfo2.print_summary(sort=True)"
   ]
  },
  {
   "cell_type": "code",
   "execution_count": 35,
   "metadata": {},
   "outputs": [
    {
     "name": "stdout",
     "output_type": "stream",
     "text": [
      "no unknown path exist.\n",
      "xdatcar file : data/XDATCAR_01\n",
      "poscar_per file: data/POSCAR_novac\n",
      "\n",
      "total counts : 45\n",
      "hopping sequence :\n",
      "A3 A3 A3 A3 A1 B1 A1 B2 B2 B1 A3 A1 B1 A3 A3 A4 A1 B7 A1 B5 A3 A3 A3 A1 New New B1 A1 B1 A1 B3 B3 B3 B3 B3 B3 New B3 B3 New B7 A7 B1 A1 B3 \n",
      "maximum Ea : 3.94 eV\n"
     ]
    },
    {
     "data": {
      "image/png": "[encoded data removed]",
      "text/plain": [
       "<Figure size 640x480 with 1 Axes>"
      ]
     },
     "metadata": {},
     "output_type": "display_data"
    }
   ],
   "source": [
    "anal_hfo2.unwrap_path()\n",
    "anal_hfo2.print_summary()"
   ]
  },
  {
   "cell_type": "code",
   "execution_count": 34,
   "metadata": {},
   "outputs": [
    {
     "data": {
      "text/plain": [
       "3.647099057042463"
      ]
     },
     "execution_count": 34,
     "metadata": {},
     "output_type": "execute_result"
    }
   ],
   "source": [
    "traj.distance_pbc(traj.lat_points[7], traj.lat_points[13])"
   ]
  },
  {
   "cell_type": "code",
   "execution_count": null,
   "metadata": {},
   "outputs": [],
   "source": []
  }
 ],
 "metadata": {
  "kernelspec": {
   "display_name": "cmd",
   "language": "python",
   "name": "python3"
  },
  "language_info": {
   "codemirror_mode": {
    "name": "ipython",
    "version": 3
   },
   "file_extension": ".py",
   "mimetype": "text/x-python",
   "name": "python",
   "nbconvert_exporter": "python",
   "pygments_lexer": "ipython3",
   "version": "3.12.4"
  }
 },
 "nbformat": 4,
 "nbformat_minor": 2
}
