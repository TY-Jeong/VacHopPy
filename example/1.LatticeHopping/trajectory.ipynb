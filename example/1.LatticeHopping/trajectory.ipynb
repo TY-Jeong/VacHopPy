{
 "cells": [
  {
   "cell_type": "code",
   "execution_count": 5,
   "metadata": {},
   "outputs": [],
   "source": [
    "from vachoppy import trajectory"
   ]
  },
  {
   "cell_type": "code",
   "execution_count": 6,
   "metadata": {},
   "outputs": [],
   "source": [
    "poscar_perf = 'data/POSCAR_novac'\n",
    "xdatcar = './data/XDATCAR_01'"
   ]
  },
  {
   "cell_type": "code",
   "execution_count": 7,
   "metadata": {},
   "outputs": [],
   "source": [
    "traj = trajectory.LatticeHopping(poscar_perf=poscar_perf, \n",
    "                                 xdatcar=xdatcar,\n",
    "                                 interval=50, \n",
    "                                 target='O' )"
   ]
  },
  {
   "cell_type": "code",
   "execution_count": 8,
   "metadata": {},
   "outputs": [
    {
     "name": "stderr",
     "output_type": "stream",
     "text": [
      "\u001b[91msave gif\u001b[0m: 100%|\u001b[32m███████████████████████████████████\u001b[39m| 300/300 [01:44<00:00,  2.87it/s]\n"
     ]
    },
    {
     "name": "stdout",
     "output_type": "stream",
     "text": [
      "Generating traj.gif...\n",
      "traj.gif was generated.\n"
     ]
    }
   ],
   "source": [
    "traj.animation(potim=2,\n",
    "               fps=30)"
   ]
  },
  {
   "cell_type": "code",
   "execution_count": null,
   "metadata": {},
   "outputs": [],
   "source": []
  }
 ],
 "metadata": {
  "kernelspec": {
   "display_name": "cmd",
   "language": "python",
   "name": "python3"
  },
  "language_info": {
   "codemirror_mode": {
    "name": "ipython",
    "version": 3
   },
   "file_extension": ".py",
   "mimetype": "text/x-python",
   "name": "python",
   "nbconvert_exporter": "python",
   "pygments_lexer": "ipython3",
   "version": "3.11.5"
  }
 },
 "nbformat": 4,
 "nbformat_minor": 2
}
