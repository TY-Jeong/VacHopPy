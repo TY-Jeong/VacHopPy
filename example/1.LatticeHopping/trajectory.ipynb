{
 "cells": [
  {
   "cell_type": "code",
   "execution_count": 1,
   "metadata": {},
   "outputs": [],
   "source": [
    "from vachoppy import trajectory"
   ]
  },
  {
   "cell_type": "code",
   "execution_count": 2,
   "metadata": {},
   "outputs": [],
   "source": [
    "poscar_perf = 'data/POSCAR_novac'\n",
    "xdatcar = './data/XDATCAR_01'"
   ]
  },
  {
   "cell_type": "code",
   "execution_count": 3,
   "metadata": {},
   "outputs": [],
   "source": [
    "traj = trajectory.LatticeHopping(poscar_perf=poscar_perf, \n",
    "                                 xdatcar=xdatcar,\n",
    "                                 interval=50, \n",
    "                                 target='O')"
   ]
  },
  {
   "cell_type": "code",
   "execution_count": 4,
   "metadata": {},
   "outputs": [
    {
     "name": "stderr",
     "output_type": "stream",
     "text": [
      "\u001b[91msave traj_on_lat\u001b[0m: 100%|\u001b[32m███████████████████████████████████\u001b[39m| 50/50 [00:12<00:00,  3.98it/s]\n"
     ]
    }
   ],
   "source": [
    "traj.save_traj_on_lat(lat_point=[34, 35, 58, 59],\n",
    "                      step=[118, 119],\n",
    "                      label=False)"
   ]
  }
 ],
 "metadata": {
  "kernelspec": {
   "display_name": "cmd",
   "language": "python",
   "name": "python3"
  },
  "language_info": {
   "codemirror_mode": {
    "name": "ipython",
    "version": 3
   },
   "file_extension": ".py",
   "mimetype": "text/x-python",
   "name": "python",
   "nbconvert_exporter": "python",
   "pygments_lexer": "ipython3",
   "version": "3.11.5"
  }
 },
 "nbformat": 4,
 "nbformat_minor": 2
}
