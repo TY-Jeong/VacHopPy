{
 "cells": [
  {
   "cell_type": "code",
   "execution_count": 1,
   "metadata": {},
   "outputs": [],
   "source": [
    "from vachoppy import trajectory"
   ]
  },
  {
   "cell_type": "code",
   "execution_count": 2,
   "metadata": {},
   "outputs": [],
   "source": [
    "poscar_perf = 'data/POSCAR_novac'\n",
    "xdatcar = './data/XDATCAR_01'"
   ]
  },
  {
   "cell_type": "code",
   "execution_count": 3,
   "metadata": {},
   "outputs": [],
   "source": [
    "traj = trajectory.LatticeHopping(poscar_perf=poscar_perf, \n",
    "                                 xdatcar=xdatcar,\n",
    "                                 interval=50, \n",
    "                                 target='O')"
   ]
  },
  {
   "cell_type": "code",
   "execution_count": 5,
   "metadata": {},
   "outputs": [
    {
     "name": "stderr",
     "output_type": "stream",
     "text": [
      "\u001b[91msave traj_on_lat\u001b[0m: 100%|\u001b[32m███████████████████████████████████\u001b[39m| 2/2 [00:00<00:00,  4.78it/s]\n"
     ]
    }
   ],
   "source": [
    "traj.save_traj_on_lat(lat_point=[34, 35, 58, 59],\n",
    "                      step=[118, 119],\n",
    "                      label=False)"
   ]
  },
  {
   "cell_type": "code",
   "execution_count": 7,
   "metadata": {},
   "outputs": [
    {
     "name": "stdout",
     "output_type": "stream",
     "text": [
      "there is no connected site.\n",
      "find the vacancy site for your self. (step: 127)\n"
     ]
    }
   ],
   "source": [
    "traj.check_connectivity(start=1)\n"
   ]
  },
  {
   "cell_type": "code",
   "execution_count": 10,
   "metadata": {},
   "outputs": [],
   "source": [
    "traj.update_vac(step=127, lat_point=7)\n",
    "traj.check_connectivity(start=127)"
   ]
  },
  {
   "cell_type": "code",
   "execution_count": 12,
   "metadata": {},
   "outputs": [
    {
     "name": "stdout",
     "output_type": "stream",
     "text": [
      "vacancy is unique.\n"
     ]
    }
   ],
   "source": [
    "traj.check_unique_vac()"
   ]
  },
  {
   "cell_type": "code",
   "execution_count": 13,
   "metadata": {},
   "outputs": [
    {
     "name": "stderr",
     "output_type": "stream",
     "text": [
      "\u001b[91msave traj\u001b[0m: 100%|\u001b[32m███████████████████████████████████\u001b[39m| 63/63 [00:06<00:00, 10.16it/s]\n"
     ]
    }
   ],
   "source": [
    "traj.save_traj()"
   ]
  }
 ],
 "metadata": {
  "kernelspec": {
   "display_name": "cmd",
   "language": "python",
   "name": "python3"
  },
  "language_info": {
   "codemirror_mode": {
    "name": "ipython",
    "version": 3
   },
   "file_extension": ".py",
   "mimetype": "text/x-python",
   "name": "python",
   "nbconvert_exporter": "python",
   "pygments_lexer": "ipython3",
   "version": "3.11.5"
  }
 },
 "nbformat": 4,
 "nbformat_minor": 2
}
